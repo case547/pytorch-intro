{
 "cells": [
  {
   "cell_type": "markdown",
   "metadata": {
    "tags": []
   },
   "source": [
    "# Introduction to PyTorch"
   ]
  },
  {
   "cell_type": "markdown",
   "metadata": {},
   "source": [
    "## PyTorch Tensors"
   ]
  },
  {
   "cell_type": "code",
   "execution_count": 2,
   "metadata": {},
   "outputs": [],
   "source": [
    "import torch"
   ]
  },
  {
   "cell_type": "code",
   "execution_count": 3,
   "metadata": {},
   "outputs": [
    {
     "name": "stdout",
     "output_type": "stream",
     "text": [
      "tensor([[0., 0., 0.],\n",
      "        [0., 0., 0.],\n",
      "        [0., 0., 0.],\n",
      "        [0., 0., 0.],\n",
      "        [0., 0., 0.]])\n",
      "torch.float32\n"
     ]
    }
   ],
   "source": [
    "z = torch.zeros(5, 3)\n",
    "print(z)\n",
    "print(z.dtype)  # query datatype"
   ]
  },
  {
   "cell_type": "code",
   "execution_count": 4,
   "metadata": {},
   "outputs": [
    {
     "name": "stdout",
     "output_type": "stream",
     "text": [
      "tensor([[1, 1, 1],\n",
      "        [1, 1, 1],\n",
      "        [1, 1, 1],\n",
      "        [1, 1, 1],\n",
      "        [1, 1, 1]], dtype=torch.int16)\n"
     ]
    }
   ],
   "source": [
    "i = torch.ones((5, 3), dtype=torch.int16)\n",
    "print(i)"
   ]
  },
  {
   "cell_type": "code",
   "execution_count": 5,
   "metadata": {},
   "outputs": [
    {
     "name": "stdout",
     "output_type": "stream",
     "text": [
      "A random tensor:\n",
      "tensor([[0.3126, 0.3791],\n",
      "        [0.3087, 0.0736]])\n",
      "\n",
      "A different random tensor:\n",
      "tensor([[0.4216, 0.0691],\n",
      "        [0.2332, 0.4047]])\n",
      "Should match r1:\n",
      "tensor([[0.3126, 0.3791],\n",
      "        [0.3087, 0.0736]])\n"
     ]
    }
   ],
   "source": [
    "# Init learning weights randomly with spec PRNG seed for reproducibility\n",
    "\n",
    "torch.manual_seed(1729)\n",
    "r1 = torch.rand(2, 2)\n",
    "print(\"A random tensor:\")\n",
    "print(r1)\n",
    "\n",
    "r2 = torch.rand(2, 2)\n",
    "print(\"\\nA different random tensor:\")\n",
    "print(r2)  # new values\n",
    "\n",
    "torch.manual_seed(1729)\n",
    "r3 = torch.rand(2, 2)\n",
    "print(\"Should match r1:\")\n",
    "print(r3)  # repeats r1 values becaused re-seeded"
   ]
  },
  {
   "cell_type": "code",
   "execution_count": 12,
   "metadata": {},
   "outputs": [
    {
     "name": "stdout",
     "output_type": "stream",
     "text": [
      "tensor([[1., 1., 1.],\n",
      "        [1., 1., 1.]])\n",
      "tensor([[2., 2., 2.],\n",
      "        [2., 2., 2.]])\n",
      "tensor([[3., 3., 3.],\n",
      "        [3., 3., 3.]])\n",
      "torch.Size([2, 3])\n",
      "RuntimeError: The size of tensor a (3) must match the size of tensor b (2) at non-singleton dimension 1\n"
     ]
    }
   ],
   "source": [
    "ones = torch.ones(2, 3)\n",
    "print(ones)\n",
    "\n",
    "twos = torch.ones(2, 3) * 2\n",
    "print(twos)\n",
    "\n",
    "threes = ones + twos  # addition allowed because shapes are similar\n",
    "print(threes)         # tensors added element-wise\n",
    "print(threes.shape)   # has same dims as input tensors\n",
    "\n",
    "r1 = torch.rand(2, 3)\n",
    "r2 = torch.rand(3, 2)\n",
    "try:\n",
    "    r3 = r1 + r2\n",
    "except RuntimeError as err:\n",
    "    print(\"RuntimeError:\", err)"
   ]
  },
  {
   "cell_type": "code",
   "execution_count": null,
   "metadata": {},
   "outputs": [
    {
     "name": "stdout",
     "output_type": "stream",
     "text": [
      "A random matrix, r:\n",
      "tensor([[ 0.0124,  0.6939],\n",
      "        [-0.4823, -0.4587]])\n",
      "\n",
      "Absolute value of r:\n",
      "tensor([[0.0124, 0.6939],\n",
      "        [0.4823, 0.4587]])\n",
      "\n",
      "Inverse sine of r:\n",
      "tensor([[0.0124, 0.6939],\n",
      "        [0.4823, 0.4587]])\n",
      "\n",
      "Determinant of r:\n",
      "tensor(0.3290)\n",
      "\n",
      "Singular value decomposition of r:\n",
      "torch.return_types.svd(\n",
      "U=tensor([[ 0.7278, -0.6858],\n",
      "        [-0.6858, -0.7278]]),\n",
      "S=tensor([0.8872, 0.3708]),\n",
      "V=tensor([[ 0.3830,  0.9237],\n",
      "        [ 0.9237, -0.3830]]))\n",
      "\n",
      "Mean and standard deviation of r:\n",
      "(tensor(0.5510), tensor(-0.0587))\n",
      "\n",
      "Maximum value of r:\n",
      "tensor(0.6939)\n"
     ]
    }
   ],
   "source": [
    "r = (torch.rand(2, 2) - 0.5) * 2  # values in [-1, 1]\n",
    "print(\"A random matrix, r:\")\n",
    "print(r)\n",
    "\n",
    "# Common math ops supported:\n",
    "print(\"\\nAbsolute value of r:\")\n",
    "print(torch.abs(r))\n",
    "\n",
    "# ...as are trig funcs:\n",
    "print(\"\\nInverse sine of r:\")\n",
    "print(torch.abs(r))\n",
    "\n",
    "# ...and lin-alg ops\n",
    "print(\"\\nDeterminant of r:\")\n",
    "print(torch.det(r))\n",
    "print(\"\\nSingular value decomposition of r:\")\n",
    "print(torch.svd(r))\n",
    "\n",
    "# ...stat and aggregate ops:\n",
    "print(\"\\nMean and standard deviation of r:\")\n",
    "print(torch.std_mean(r))\n",
    "print(\"\\nMaximum value of r:\")\n",
    "print(torch.max(r))"
   ]
  },
  {
   "cell_type": "markdown",
   "metadata": {},
   "source": [
    "## Autograd"
   ]
  },
  {
   "cell_type": "code",
   "execution_count": null,
   "metadata": {},
   "outputs": [],
   "source": [
    "# Using simple RNN, starting with four tensors\n",
    "\n",
    "x = torch.randn(1, 10)       # input\n",
    "prev_h = torch.randn(1, 20)  # RNN hidden state\n",
    "W_h = torch.randn(20, 20)    # hidden state learning weight\n",
    "W_x = torch.randn(20, 10)    # input learning weight\n",
    "\n",
    "# Multiply weights with tensors\n",
    "i2h = torch.mm(W_x, x.t())\n",
    "h2h = torch.mm(W_h, prev_h.t())\n",
    "\n",
    "next_h = i2h + h2h\n",
    "next_h = next_h.tanh()  # tanh activation func\n",
    "\n",
    "loss = next_h.sum()  # diff between correct output and actual model prediction\n",
    "loss.backward()      # compute gradient wrt input tensors"
   ]
  },
  {
   "cell_type": "markdown",
   "metadata": {},
   "source": [
    "## PyTorch Models"
   ]
  },
  {
   "cell_type": "code",
   "execution_count": 14,
   "metadata": {},
   "outputs": [],
   "source": [
    "import torch\n",
    "import torch.nn as nn  # parent obj for PyTorch models\n",
    "import torch.nn.functional as F  # for activation func"
   ]
  },
  {
   "cell_type": "markdown",
   "metadata": {},
   "source": [
    "LeNet-5 was one of the earliest convolutional neural nets, and one of the drivers of the explosion in Deep Learning. It was built to read small images of handwritten numbers (the MNIST dataset), and correctly classify which digit was represented in the image.\n",
    "\n",
    "<img src=\"https://pytorch.org/tutorials/_images/mnist.png\" height=\"200\">\n",
    "\n",
    "Abridged version of how it works:\n",
    "* Layer C1: convolutional layer\n",
    "    * Scans input image for features learned during training\n",
    "    * Outputs map of where it saw each of its learned features in the image\n",
    "* Layer S2: downsamples this “activation map”\n",
    "* Layer C3: another convolutional layer\n",
    "    * Scans C1’s activation map for feature combinations\n",
    "    * Outputs activation map describing spatial locations of these feature combinations\n",
    "* Layer S4: downsamples this activation map\n",
    "* Fully-connected layers at the end: F5, F6, OUTPUT\n",
    "    * Classifier that takes final activation map and classifies it into one of ten bins representing the 10 digits"
   ]
  },
  {
   "cell_type": "code",
   "execution_count": 17,
   "metadata": {},
   "outputs": [],
   "source": [
    "class LeNet(nn.Module):\n",
    "    def __init__(self):\n",
    "        \"\"\"Define the neural network architecure, instantiate layers.\"\"\"\n",
    "        super(LeNet, self).__init__()  # call __init__() of nn.Module superclass\n",
    "\n",
    "        # Params: number of input img channels, number of output channels, kernel dims\n",
    "        self.conv1 = nn.Conv2d(1, 6, 3)\n",
    "        self.conv2 = nn.Conv2d(6, 16, 3)\n",
    "\n",
    "        # Affine operations: y = Wx + b\n",
    "        self.fc1 = nn.Linear(16*6*6, 120)  # 16 from last non-linear layer, 6*6 from img dims\n",
    "        self.fc2 = nn.Linear(120, 84)\n",
    "        self.fc3 = nn.Linear(84, 10)\n",
    "\n",
    "    def forward(self, x):\n",
    "        \"\"\"Computes the output of the network for an input x.\"\"\"\n",
    "        # Max pooling over (2, 2) window\n",
    "        x = F.max_pool2d(F.relu(self.conv1(x)), (2, 2))\n",
    "        x = F.max_pool2d(F.relu(self.conv2(x)), 2)  # If square, can spec just 1 number\n",
    "\n",
    "        x = x.view(-1, self.num_flat_features(x))  # reshape x\n",
    "        x = F.relu(self.fc1(x))\n",
    "        x = F.relu(self.fc2(x))\n",
    "        x = self.fc3(x)\n",
    "\n",
    "        return x\n",
    "\n",
    "    def num_flat_features(self, x):\n",
    "        size = x.size()[1:]  # all dims except batch dim\n",
    "        num_features = 1\n",
    "        for s in size:\n",
    "            num_features *= s\n",
    "        return num_features"
   ]
  },
  {
   "cell_type": "code",
   "execution_count": 18,
   "metadata": {},
   "outputs": [
    {
     "name": "stdout",
     "output_type": "stream",
     "text": [
      "LeNet(\n",
      "  (conv1): Conv2d(1, 6, kernel_size=(3, 3), stride=(1, 1))\n",
      "  (conv2): Conv2d(6, 16, kernel_size=(3, 3), stride=(1, 1))\n",
      "  (fc1): Linear(in_features=576, out_features=120, bias=True)\n",
      "  (fc2): Linear(in_features=120, out_features=84, bias=True)\n",
      "  (fc3): Linear(in_features=84, out_features=10, bias=True)\n",
      ")\n",
      "\n",
      "Image batch shape:\n",
      "torch.Size([1, 1, 32, 32])\n",
      "\n",
      "Raw output:\n",
      "tensor([[ 0.0428, -0.1287,  0.0166, -0.0133, -0.0381, -0.0162,  0.0999,  0.0428,\n",
      "          0.0604, -0.0058]], grad_fn=<AddmmBackward0>)\n",
      "torch.Size([1, 10])\n"
     ]
    }
   ],
   "source": [
    "net = LeNet()\n",
    "print(net)\n",
    "\n",
    "batch_dim = 1  # only 1 img so batch of 1\n",
    "inp = torch.rand(batch_dim, 1, 32, 32)  # stand-in for 32*32 B&W image\n",
    "print(\"\\nImage batch shape:\")\n",
    "print(inp.shape)\n",
    "\n",
    "outp = net(inp)  # don't call forward() directly\n",
    "print(\"\\nRaw output:\")  # confidence that inp is certain digit\n",
    "print(outp)             # model hasn't learned yet though\n",
    "print(outp.shape)"
   ]
  },
  {
   "cell_type": "markdown",
   "metadata": {},
   "source": [
    "## Datasets and Dataloaders"
   ]
  },
  {
   "cell_type": "code",
   "execution_count": 32,
   "metadata": {},
   "outputs": [],
   "source": [
    "# Transform incoming images into PyTorch tensor\n",
    "\n",
    "import torch\n",
    "import torchvision\n",
    "import torchvision.transforms as transforms\n",
    "\n",
    "transform = transforms.Compose(\n",
    "    [\n",
    "        transforms.ToTensor(),  # converts images loaded into PyTorch tensors\n",
    "        transforms.Normalize((0.5, 0.5, 0.5), (0.5, 0.5, 0.5)),\n",
    "    ]\n",
    ")\n"
   ]
  },
  {
   "cell_type": "code",
   "execution_count": 33,
   "metadata": {},
   "outputs": [
    {
     "name": "stdout",
     "output_type": "stream",
     "text": [
      "Files already downloaded and verified\n"
     ]
    }
   ],
   "source": [
    "# Create instance of CIFAR10 dataset, set of 32*32 colour image tiles reprsenting 10 object classes\n",
    "\n",
    "trainset = torchvision.datasets.CIFAR10(\n",
    "    \"./data\", train=True, download=True, transform=transform\n",
    ")"
   ]
  },
  {
   "cell_type": "code",
   "execution_count": 34,
   "metadata": {},
   "outputs": [],
   "source": [
    "trainloader = torch.utils.data.DataLoader(\n",
    "    trainset, batch_size=4, shuffle=True, num_workers=2\n",
    ")"
   ]
  },
  {
   "cell_type": "code",
   "execution_count": 35,
   "metadata": {},
   "outputs": [
    {
     "name": "stdout",
     "output_type": "stream",
     "text": [
      " deer  ship  ship  deer\n"
     ]
    },
    {
     "data": {
      "image/png": "[encoded data removed]",
      "text/plain": [
       "<Figure size 432x288 with 1 Axes>"
      ]
     },
     "metadata": {
      "needs_background": "light"
     },
     "output_type": "display_data"
    }
   ],
   "source": [
    "import matplotlib.pyplot as plt\n",
    "import numpy as np\n",
    "\n",
    "classes = (\"plane\", \"car\", \"bird\", \"cat\", \"deer\",\n",
    "           \"dog\", \"frog\", \"horse\", \"ship\", \"truck\")\n",
    "\n",
    "\n",
    "def imshow(img):\n",
    "    img = img / 2 + 0.5  # unnormalise\n",
    "    npimg = img.numpy()\n",
    "    plt.imshow(np.transpose(npimg, (1, 2, 0)))\n",
    "\n",
    "\n",
    "# Get some random training images\n",
    "dataiter = iter(trainloader)\n",
    "images, labels = dataiter.next()\n",
    "\n",
    "# Show images\n",
    "imshow(torchvision.utils.make_grid(images))\n",
    "# Print labels\n",
    "print(\" \".join(\"%5s\" % classes[labels[j]] for j in range(4)))\n"
   ]
  },
  {
   "cell_type": "markdown",
   "metadata": {},
   "source": [
    "## Training Your PyTorch Model"
   ]
  },
  {
   "cell_type": "code",
   "execution_count": 36,
   "metadata": {},
   "outputs": [],
   "source": [
    "import torch\n",
    "import torch.nn as nn\n",
    "import torch.nn.functional as F\n",
    "import torch.optim as optim\n",
    "\n",
    "import torchvision\n",
    "import torchvision.transforms as transforms\n",
    "\n",
    "import matplotlib\n",
    "import matplotlib.pyplot as plt\n",
    "import numpy as np"
   ]
  },
  {
   "cell_type": "code",
   "execution_count": 37,
   "metadata": {},
   "outputs": [
    {
     "name": "stdout",
     "output_type": "stream",
     "text": [
      "Files already downloaded and verified\n"
     ]
    }
   ],
   "source": [
    "testset = torchvision.datasets.CIFAR10(\n",
    "    root=\"./data\", train=False, download=True, transform=transform\n",
    ")\n",
    "testloader = torch.utils.data.DataLoader(\n",
    "    testset, batch_size=4, shuffle=False, num_workers=2\n",
    ")\n"
   ]
  },
  {
   "cell_type": "code",
   "execution_count": 39,
   "metadata": {},
   "outputs": [],
   "source": [
    "# The model we'll train - a variant of LeNet adapted for 3-colour images\n",
    "\n",
    "class Net(nn.Module):\n",
    "    def __init__(self):\n",
    "        \"\"\"Define the neural network architecure, instantiate layers.\"\"\"\n",
    "        super(Net, self).__init__()  # call __init__() of nn.Module superclass\n",
    "\n",
    "        self.conv1 = nn.Conv2d(3, 6, 5)\n",
    "        self.pool = nn.MaxPool2d(2, 2)\n",
    "        self.conv2 = nn.Conv2d(6, 16, 5)\n",
    "\n",
    "        self.fc1 = nn.Linear(16*5*5, 120)\n",
    "        self.fc2 = nn.Linear(120, 84)\n",
    "        self.fc3 = nn.Linear(84, 10)\n",
    "\n",
    "    def forward(self, x):\n",
    "        \"\"\"Computes the output of the network for an input x.\"\"\"\n",
    "        x = self.pool(F.relu(self.conv1(x)))\n",
    "        x = self.pool(F.relu(self.conv2(x)))\n",
    "\n",
    "        x = x.view(-1, 16*5*5)\n",
    "        x = F.relu(self.fc1(x))\n",
    "        x = F.relu(self.fc2(x))\n",
    "        x = self.fc3(x)\n",
    "\n",
    "        return x\n",
    "\n",
    "net = Net()"
   ]
  },
  {
   "cell_type": "code",
   "execution_count": 41,
   "metadata": {},
   "outputs": [],
   "source": [
    "# Loss function and optimiser\n",
    "\n",
    "criterion = nn.CrossEntropyLoss()\n",
    "optimiser = optim.SGD(net.parameters(), lr=0.001, momentum=0.9)"
   ]
  },
  {
   "cell_type": "code",
   "execution_count": 42,
   "metadata": {},
   "outputs": [
    {
     "name": "stdout",
     "output_type": "stream",
     "text": [
      "[1,  2000] loss: 2.203\n",
      "[1,  4000] loss: 1.847\n",
      "[1,  6000] loss: 1.644\n",
      "[1,  8000] loss: 1.552\n",
      "[1, 10000] loss: 1.510\n",
      "[1, 12000] loss: 1.455\n",
      "[2,  2000] loss: 1.396\n",
      "[2,  4000] loss: 1.377\n",
      "[2,  6000] loss: 1.360\n",
      "[2,  8000] loss: 1.306\n",
      "[2, 10000] loss: 1.307\n",
      "[2, 12000] loss: 1.284\n",
      "Finished training.\n"
     ]
    }
   ],
   "source": [
    "for epoch in range(2):\n",
    "\n",
    "    running_loss = 0.0\n",
    "    for i, data in enumerate(trainloader, 0):\n",
    "        # Get inputs\n",
    "        inputs, labels = data\n",
    "\n",
    "        # Zero parameter gradients\n",
    "        optimiser.zero_grad()\n",
    "\n",
    "        # Forward pass, backward pass, optimise\n",
    "        outputs = net(inputs)\n",
    "        loss = criterion(outputs, labels)\n",
    "        loss.backward()   # calc gradients that will direct learning\n",
    "        optimiser.step()  # optimiser performs one learning step\n",
    "\n",
    "        # Print stats\n",
    "        running_loss += loss.item()\n",
    "        if i % 2000 == 1999:\n",
    "            print(\"[%d, %5d] loss: %.3f\" % (epoch + 1, i + 1, running_loss / 2000))\n",
    "            running_loss = 0.0\n",
    "\n",
    "print(\"Finished training.\")"
   ]
  },
  {
   "cell_type": "code",
   "execution_count": 58,
   "metadata": {},
   "outputs": [
    {
     "name": "stdout",
     "output_type": "stream",
     "text": [
      "Network accuracy on the 10,000 test immages: 52.73%\n"
     ]
    }
   ],
   "source": [
    "correct = 0\n",
    "total = 0\n",
    "\n",
    "with torch.no_grad():\n",
    "    for data in testloader:\n",
    "        images, labels = data\n",
    "        outputs = net(images)\n",
    "        _, predicted = torch.max(outputs.data, 1)\n",
    "        total += labels.size(0)\n",
    "        correct += (predicted == labels).sum().item()\n",
    "\n",
    "print(f\"Network accuracy on the 10,000 test immages: {100*correct/total}%\")"
   ]
  }
 ],
 "metadata": {
  "kernelspec": {
   "display_name": "Python 3 (ipykernel)",
   "language": "python",
   "name": "python3"
  },
  "language_info": {
   "codemirror_mode": {
    "name": "ipython",
    "version": 3
   },
   "file_extension": ".py",
   "mimetype": "text/x-python",
   "name": "python",
   "nbconvert_exporter": "python",
   "pygments_lexer": "ipython3",
   "version": "3.10.4"
  },
  "vscode": {
   "interpreter": {
    "hash": "c2720f8f7927cabbb594abb5ac9ed583f197d67d5a15459d4ce8a63569bbfaff"
   }
  }
 },
 "nbformat": 4,
 "nbformat_minor": 4
}
