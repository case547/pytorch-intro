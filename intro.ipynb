{
 "cells": [
  {
   "cell_type": "markdown",
   "metadata": {},
   "source": [
    "# Introduction to PyTorch"
   ]
  },
  {
   "cell_type": "markdown",
   "metadata": {},
   "source": [
    "## PyTorch Tensors"
   ]
  },
  {
   "cell_type": "code",
   "execution_count": 1,
   "metadata": {},
   "outputs": [],
   "source": [
    "import torch"
   ]
  },
  {
   "cell_type": "code",
   "execution_count": 7,
   "metadata": {},
   "outputs": [
    {
     "name": "stdout",
     "output_type": "stream",
     "text": [
      "tensor([[0., 0., 0.],\n",
      "        [0., 0., 0.],\n",
      "        [0., 0., 0.],\n",
      "        [0., 0., 0.],\n",
      "        [0., 0., 0.]])\n",
      "torch.float32\n"
     ]
    }
   ],
   "source": [
    "z = torch.zeros(5, 3)\n",
    "print(z)\n",
    "print(z.dtype)  # query datatype"
   ]
  },
  {
   "cell_type": "code",
   "execution_count": 5,
   "metadata": {},
   "outputs": [
    {
     "name": "stdout",
     "output_type": "stream",
     "text": [
      "tensor([[1, 1, 1],\n",
      "        [1, 1, 1],\n",
      "        [1, 1, 1],\n",
      "        [1, 1, 1],\n",
      "        [1, 1, 1]], dtype=torch.int16)\n"
     ]
    }
   ],
   "source": [
    "i = torch.ones((5, 3), dtype=torch.int16)\n",
    "print(i)"
   ]
  },
  {
   "cell_type": "code",
   "execution_count": 10,
   "metadata": {},
   "outputs": [
    {
     "name": "stdout",
     "output_type": "stream",
     "text": [
      "A random tensor:\n",
      "tensor([[0.3126, 0.3791],\n",
      "        [0.3087, 0.0736]])\n",
      "\n",
      "A different random tensor:\n",
      "tensor([[0.4216, 0.0691],\n",
      "        [0.2332, 0.4047]])\n",
      "Should match r1:\n",
      "tensor([[0.3126, 0.3791],\n",
      "        [0.3087, 0.0736]])\n"
     ]
    }
   ],
   "source": [
    "# Init learning weights randomly with spec PRNG seed for reproducibility\n",
    "\n",
    "torch.manual_seed(1729)\n",
    "r1 = torch.rand(2, 2)\n",
    "print(\"A random tensor:\")\n",
    "print(r1)\n",
    "\n",
    "r2 = torch.rand(2, 2)\n",
    "print(\"\\nA different random tensor:\")\n",
    "print(r2)  # new values\n",
    "\n",
    "torch.manual_seed(1729)\n",
    "r3 = torch.rand(2, 2)\n",
    "print(\"Should match r1:\")\n",
    "print(r3)  # repeats r1 values becaused re-seeded"
   ]
  },
  {
   "cell_type": "code",
   "execution_count": 11,
   "metadata": {},
   "outputs": [
    {
     "name": "stdout",
     "output_type": "stream",
     "text": [
      "tensor([[1., 1., 1.],\n",
      "        [1., 1., 1.]])\n",
      "tensor([[2., 2., 2.],\n",
      "        [2., 2., 2.]])\n",
      "tensor([[3., 3., 3.],\n",
      "        [3., 3., 3.]])\n",
      "torch.Size([2, 3])\n"
     ]
    },
    {
     "ename": "RuntimeError",
     "evalue": "The size of tensor a (3) must match the size of tensor b (2) at non-singleton dimension 1",
     "output_type": "error",
     "traceback": [
      "\u001b[1;31m---------------------------------------------------------------------------\u001b[0m",
      "\u001b[1;31mRuntimeError\u001b[0m                              Traceback (most recent call last)",
      "\u001b[1;32mc:\\Users\\justin.mak\\OneDrive - Ocean Infinity Group Limited\\Documents\\pytorch-intro\\intro.ipynb Cell 5\u001b[0m in \u001b[0;36m<cell line: 13>\u001b[1;34m()\u001b[0m\n\u001b[0;32m     <a href='vscode-notebook-cell:/c%3A/Users/justin.mak/OneDrive%20-%20Ocean%20Infinity%20Group%20Limited/Documents/pytorch-intro/intro.ipynb#ch0000004?line=10'>11</a>\u001b[0m r1 \u001b[39m=\u001b[39m torch\u001b[39m.\u001b[39mrand(\u001b[39m2\u001b[39m, \u001b[39m3\u001b[39m)\n\u001b[0;32m     <a href='vscode-notebook-cell:/c%3A/Users/justin.mak/OneDrive%20-%20Ocean%20Infinity%20Group%20Limited/Documents/pytorch-intro/intro.ipynb#ch0000004?line=11'>12</a>\u001b[0m r2 \u001b[39m=\u001b[39m torch\u001b[39m.\u001b[39mrand(\u001b[39m3\u001b[39m, \u001b[39m2\u001b[39m)\n\u001b[1;32m---> <a href='vscode-notebook-cell:/c%3A/Users/justin.mak/OneDrive%20-%20Ocean%20Infinity%20Group%20Limited/Documents/pytorch-intro/intro.ipynb#ch0000004?line=12'>13</a>\u001b[0m r3 \u001b[39m=\u001b[39m r1 \u001b[39m+\u001b[39;49m r2\n",
      "\u001b[1;31mRuntimeError\u001b[0m: The size of tensor a (3) must match the size of tensor b (2) at non-singleton dimension 1"
     ]
    }
   ],
   "source": [
    "ones = torch.ones(2, 3)\n",
    "print(ones)\n",
    "\n",
    "twos = torch.ones(2, 3) * 2\n",
    "print(twos)\n",
    "\n",
    "threes = ones + twos  # addition allowed because shapes are similar\n",
    "print(threes)         # tensors added element-wise\n",
    "print(threes.shape)   # has same dims as input tensors\n",
    "\n",
    "r1 = torch.rand(2, 3)\n",
    "r2 = torch.rand(3, 2)\n",
    "r3 = r1 + r2"
   ]
  },
  {
   "cell_type": "code",
   "execution_count": 14,
   "metadata": {},
   "outputs": [
    {
     "name": "stdout",
     "output_type": "stream",
     "text": [
      "A random matrix, r:\n",
      "tensor([[ 0.0124,  0.6939],\n",
      "        [-0.4823, -0.4587]])\n",
      "\n",
      "Absolute value of r:\n",
      "tensor([[0.0124, 0.6939],\n",
      "        [0.4823, 0.4587]])\n",
      "\n",
      "Inverse sine of r:\n",
      "tensor([[0.0124, 0.6939],\n",
      "        [0.4823, 0.4587]])\n",
      "\n",
      "Determinant of r:\n",
      "tensor(0.3290)\n",
      "\n",
      "Singular value decomposition of r:\n",
      "torch.return_types.svd(\n",
      "U=tensor([[ 0.7278, -0.6858],\n",
      "        [-0.6858, -0.7278]]),\n",
      "S=tensor([0.8872, 0.3708]),\n",
      "V=tensor([[ 0.3830,  0.9237],\n",
      "        [ 0.9237, -0.3830]]))\n",
      "\n",
      "Mean and standard deviation of r:\n",
      "(tensor(0.5510), tensor(-0.0587))\n",
      "\n",
      "Maximum value of r:\n",
      "tensor(0.6939)\n"
     ]
    }
   ],
   "source": [
    "r = (torch.rand(2, 2) - 0.5) * 2  # values in [-1, 1]\n",
    "print(\"A random matrix, r:\")\n",
    "print(r)\n",
    "\n",
    "# Common math ops supported:\n",
    "print(\"\\nAbsolute value of r:\")\n",
    "print(torch.abs(r))\n",
    "\n",
    "# ...as are trig funcs:\n",
    "print(\"\\nInverse sine of r:\")\n",
    "print(torch.abs(r))\n",
    "\n",
    "# ...and lin-alg ops\n",
    "print(\"\\nDeterminant of r:\")\n",
    "print(torch.det(r))\n",
    "print(\"\\nSingular value decomposition of r:\")\n",
    "print(torch.svd(r))\n",
    "\n",
    "# ...stat and aggregate ops:\n",
    "print(\"\\nMean and standard deviation of r:\")\n",
    "print(torch.std_mean(r))\n",
    "print(\"\\nMaximum value of r:\")\n",
    "print(torch.max(r))"
   ]
  },
  {
   "cell_type": "markdown",
   "metadata": {},
   "source": [
    "## PyTorch Models"
   ]
  },
  {
   "cell_type": "code",
   "execution_count": null,
   "metadata": {},
   "outputs": [],
   "source": [
    "import torch.nn as nn            # parent obj for PyTorch models\n",
    "import torch.nn.functional as F  # for activation func"
   ]
  },
  {
   "cell_type": "markdown",
   "metadata": {},
   "source": [
    "LeNet-5 was one of the earliest convolutional neural nets, and one of the drivers of the explosion in Deep Learning. It was built to read small images of handwritten numbers (the MNIST dataset), and correctly classify which digit was represented in the image.\n",
    "\n",
    "<img src=\"https://pytorch.org/tutorials/_images/mnist.png\" height=\"200\">\n",
    "\n",
    "Abridged version of how it works:\n",
    "* Layer C1: convolutional layer\n",
    "    * Scans input image for features learned during training\n",
    "    * Outputs map of where it saw each of its learned features in the image\n",
    "* Layer S2: downsamples this “activation map”\n",
    "* Layer C3: another convolutional layer\n",
    "    * Scans C1’s activation map for feature combinations\n",
    "    * Outputs activation map describing spatial locations of these feature combinations\n",
    "* Layer S4: downsamples this activation map\n",
    "* Fully-connected layers at the end: F5, F6, OUTPUT\n",
    "    * Classifier that takes final activation map and classifies it into one of ten bins representing the 10 digits"
   ]
  },
  {
   "cell_type": "code",
   "execution_count": null,
   "metadata": {},
   "outputs": [],
   "source": [
    "class LeNet(nn.Module):\n",
    "\n",
    "    def __init__(self):\n",
    "        super(LeNet, self).__init__()\n",
    "        self.conv1 = nn.Conv2d(1, 6, 3)\n",
    "        self.conv2 = nn.Conv2d(6, 16, 3)\n",
    "\n",
    "        self.fc1 = nn.Linear(16)"
   ]
  }
 ],
 "metadata": {
  "kernelspec": {
   "display_name": "Python 3.10.4 64-bit",
   "language": "python",
   "name": "python3"
  },
  "language_info": {
   "codemirror_mode": {
    "name": "ipython",
    "version": 3
   },
   "file_extension": ".py",
   "mimetype": "text/x-python",
   "name": "python",
   "nbconvert_exporter": "python",
   "pygments_lexer": "ipython3",
   "version": "3.10.4"
  },
  "orig_nbformat": 4,
  "vscode": {
   "interpreter": {
    "hash": "c2720f8f7927cabbb594abb5ac9ed583f197d67d5a15459d4ce8a63569bbfaff"
   }
  }
 },
 "nbformat": 4,
 "nbformat_minor": 2
}
