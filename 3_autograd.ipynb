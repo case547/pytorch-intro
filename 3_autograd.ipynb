{
 "cells": [
  {
   "cell_type": "markdown",
   "metadata": {},
   "source": [
    "# The Fundamentals of Autograd"
   ]
  },
  {
   "cell_type": "markdown",
   "metadata": {},
   "source": [
    "## What do we need Autograd for?\n",
    "\n",
    "Treating inputs as n *i*-dimensional vector $\\vec{x}$, model *M* can be expressed as vector-valued function $\\vec{y} = \\vec{M}(\\vec{x})$. From here, the vector sign is omitted where contextually clear.\n",
    "\n",
    "Since mostly discussing autograd in context of training, output of interest is model's loss function $L(\\vec{y}) = L(\\vec{M}(\\vec{x}))$, a single-valued scalar function of model output expressing how far off model's prediction was from particular input's *ideal* output.\n",
    "\n",
    "Minimising loss involves iteratively nudging learning weights until tolerable loss produced for variety of inputs.\n",
    "\n",
    "This means making $\\frac{\\partial L}{\\partial x} = 0$, which should be re-expressed to be derived from a funciton of the model output $\\frac{\\partial L(\\vec{y})}{\\partial x} = \\frac{\\partial L}{\\partial y} \\frac{\\partial y}{\\partial x} = \\frac{\\partial L}{\\partial y} \\frac{\\partial M(x)}{\\partial x}$.\n",
    "\n",
    "Across many local partial derivatives within $\\frac{\\partial M(x)}{\\partial x}$, gradients over learning weights most of interest - tell us *what direction to change each weight* to get loss function closer to zero.\n",
    "\n",
    "Since number of local derivates (each corresponding to separate path through model's computation graph) goes up exponentially with network depth, so does comlexity in computing them. Autograd tracks history of every computation, greatly speeding up learning."
   ]
  },
  {
   "cell_type": "markdown",
   "metadata": {},
   "source": [
    "## A Simple Example"
   ]
  },
  {
   "cell_type": "code",
   "execution_count": 3,
   "metadata": {},
   "outputs": [],
   "source": [
    "import math\n",
    "import matplotlib.pyplot as plt\n",
    "import matplotlib.ticker as ticker\n",
    "\n",
    "import torch"
   ]
  },
  {
   "cell_type": "code",
   "execution_count": null,
   "metadata": {},
   "outputs": [],
   "source": [
    "a = torch.linspace(0., 2. * math.pi, steps=25, requires_grad=True)\n",
    "# In every computation that follows, autograd will accum history of computation in output tensors\n",
    "\n",
    "print(a)"
   ]
  },
  {
   "cell_type": "code",
   "execution_count": null,
   "metadata": {},
   "outputs": [],
   "source": [
    "b = torch.sin(a)\n",
    "plt.plot(a.detach(), b.detach())"
   ]
  },
  {
   "cell_type": "code",
   "execution_count": null,
   "metadata": {},
   "outputs": [],
   "source": [
    "print(b) \n",
    "# grad_fn hints that executing back-prop step, will need to\n",
    "# compute derivative of sin(x) for all this this tensor's inpurts"
   ]
  },
  {
   "cell_type": "code",
   "execution_count": null,
   "metadata": {},
   "outputs": [],
   "source": [
    "c = 2*b\n",
    "print(c)\n",
    "\n",
    "d = c+1\n",
    "print(d)"
   ]
  },
  {
   "cell_type": "code",
   "execution_count": null,
   "metadata": {},
   "outputs": [],
   "source": [
    "# Single-element output, as would be needed to call .backward() on tensor w/o args\n",
    "out = d.sum()\n",
    "print(out)"
   ]
  },
  {
   "cell_type": "code",
   "execution_count": 7,
   "metadata": {},
   "outputs": [
    {
     "name": "stdout",
     "output_type": "stream",
     "text": [
      "d:\n",
      "<AddBackward0 object at 0x0000023CEDBC53A0>\n",
      "((<MulBackward0 object at 0x0000023CEDCD3640>, 0), (None, 0))\n",
      "((<SinBackward0 object at 0x0000023CEDBC53A0>, 0), (None, 0))\n",
      "((<AccumulateGrad object at 0x0000023CEDCD3580>, 0),)\n",
      "()\n",
      "\n",
      "c:\n",
      "<MulBackward0 object at 0x0000023CEDC40B20>\n",
      "\n",
      "b:\n",
      "<SinBackward0 object at 0x0000023CEDC40B20>\n",
      "\n",
      "a:\n",
      "None\n"
     ]
    }
   ],
   "source": [
    "# Each grad_fn stored allows walking down computation to inputs with `next_functions` property\n",
    "\n",
    "print(\"d:\")\n",
    "print(d.grad_fn)\n",
    "print(d.grad_fn.next_functions)\n",
    "print(d.grad_fn.next_functions[0][0].next_functions)\n",
    "print(d.grad_fn.next_functions[0][0].next_functions[0][0].next_functions)\n",
    "print(d.grad_fn.next_functions[0][0].next_functions[0][0].next_functions[0][0].next_functions)\n",
    "\n",
    "print(\"\\nc:\")\n",
    "print(c.grad_fn)\n",
    "\n",
    "print(\"\\nb:\")\n",
    "print(b.grad_fn)\n",
    "\n",
    "print(\"\\na:\")\n",
    "print(a.grad_fn)"
   ]
  },
  {
   "cell_type": "code",
   "execution_count": 8,
   "metadata": {},
   "outputs": [
    {
     "name": "stdout",
     "output_type": "stream",
     "text": [
      "tensor([ 2.0000e+00,  1.9319e+00,  1.7321e+00,  1.4142e+00,  1.0000e+00,\n",
      "         5.1764e-01, -8.7423e-08, -5.1764e-01, -1.0000e+00, -1.4142e+00,\n",
      "        -1.7321e+00, -1.9319e+00, -2.0000e+00, -1.9319e+00, -1.7321e+00,\n",
      "        -1.4142e+00, -1.0000e+00, -5.1764e-01,  2.3850e-08,  5.1764e-01,\n",
      "         1.0000e+00,  1.4142e+00,  1.7321e+00,  1.9319e+00,  2.0000e+00])\n"
     ]
    },
    {
     "data": {
      "text/plain": [
       "[<matplotlib.lines.Line2D at 0x23cedd08790>]"
      ]
     },
     "execution_count": 8,
     "metadata": {},
     "output_type": "execute_result"
    },
    {
     "data": {
      "image/png": "[encoded data removed]",
      "text/plain": [
       "<Figure size 432x288 with 1 Axes>"
      ]
     },
     "metadata": {
      "needs_background": "light"
     },
     "output_type": "display_data"
    }
   ],
   "source": [
    "# Get derivates out\n",
    "\n",
    "out.backward()\n",
    "print(a.grad)\n",
    "plt.plot(a.detach(), a.grad.detach())"
   ]
  },
  {
   "cell_type": "code",
   "execution_count": 9,
   "metadata": {},
   "outputs": [],
   "source": [
    "# Cmoputation steps taken to get here\n",
    "\n",
    "a = torch.linspace(0., 2. * math.pi, steps=25, requires_grad=True)\n",
    "b = torch.sin(a)\n",
    "c = 2 * b\n",
    "d = c + 1\n",
    "out = d.sum()"
   ]
  },
  {
   "cell_type": "markdown",
   "metadata": {},
   "source": [
    "Only compuation's *leaf nodes* have gradients computed. `print(c.grad)` would return `None`. Here only input is leaf node."
   ]
  },
  {
   "cell_type": "markdown",
   "metadata": {},
   "source": [
    "## Autograd in Training"
   ]
  },
  {
   "cell_type": "code",
   "execution_count": 10,
   "metadata": {},
   "outputs": [],
   "source": [
    "BATCH_SIZE = 16\n",
    "DIM_IN = 1000\n",
    "HIDDEN_SIZE = 100\n",
    "DIM_OUT = 10\n",
    "\n",
    "class TinyModel(torch.nn.Module):\n",
    "    def __init__(self):\n",
    "        super(TinyModel, self).__init__()\n",
    "\n",
    "        # No need to specify autograd because assumed true in nn.Module subclass\n",
    "        self.layer1 = torch.nn.Linear(1000, 100)\n",
    "        self.relu = torch.nn.ReLU()\n",
    "        self.layer2 = torch.nn.Linear(100, 10)\n",
    "\n",
    "    def forward(self, x):\n",
    "        x = self.layer1(x)\n",
    "        x = self.relu(x)\n",
    "        x = self.layer2(x)\n",
    "        \n",
    "        return x\n",
    "\n",
    "some_input = torch.randn(BATCH_SIZE, DIM_IN, requires_grad=False)\n",
    "ideal_output = torch.randn(BATCH_SIZE, DIM_OUT, requires_grad=False)\n",
    "\n",
    "model = TinyModel()"
   ]
  },
  {
   "cell_type": "code",
   "execution_count": 11,
   "metadata": {},
   "outputs": [
    {
     "name": "stdout",
     "output_type": "stream",
     "text": [
      "tensor([ 0.0462,  0.0134,  0.0492, -0.0561,  0.0096,  0.0521,  0.0900,  0.0649,\n",
      "        -0.0899, -0.0258], grad_fn=<SliceBackward0>)\n",
      "None\n"
     ]
    }
   ],
   "source": [
    "# Examine weights and verify no gradients computed yet\n",
    "\n",
    "print(model.layer2.weight[0][0:10])\n",
    "print(model.layer2.weight.grad)"
   ]
  },
  {
   "cell_type": "code",
   "execution_count": 12,
   "metadata": {},
   "outputs": [
    {
     "name": "stdout",
     "output_type": "stream",
     "text": [
      "tensor(166.5551, grad_fn=<SumBackward0>)\n"
     ]
    }
   ],
   "source": [
    "# Run through one training batch\n",
    "\n",
    "optimiser = torch.optim.SGD(model.parameters(), lr=0.001)\n",
    "\n",
    "prediction = model(some_input)\n",
    "\n",
    "loss = (ideal_output - prediction).pow(2).sum()\n",
    "print(loss)"
   ]
  },
  {
   "cell_type": "code",
   "execution_count": 13,
   "metadata": {},
   "outputs": [
    {
     "name": "stdout",
     "output_type": "stream",
     "text": [
      "tensor([ 0.0462,  0.0134,  0.0492, -0.0561,  0.0096,  0.0521,  0.0900,  0.0649,\n",
      "        -0.0899, -0.0258], grad_fn=<SliceBackward0>)\n",
      "tensor([-0.9128, -1.3424,  1.2112,  0.3252, -1.3144,  0.0086, -3.2288,  0.5864,\n",
      "        -1.2520,  0.2413])\n"
     ]
    }
   ],
   "source": [
    "loss.backward()\n",
    "print(model.layer2.weight[0][0:10])\n",
    "print(model.layer2.weight.grad[0][0:10])"
   ]
  },
  {
   "cell_type": "code",
   "execution_count": 14,
   "metadata": {},
   "outputs": [
    {
     "name": "stdout",
     "output_type": "stream",
     "text": [
      "tensor([ 0.0471,  0.0148,  0.0480, -0.0564,  0.0109,  0.0521,  0.0932,  0.0644,\n",
      "        -0.0886, -0.0260], grad_fn=<SliceBackward0>)\n",
      "tensor([-0.9128, -1.3424,  1.2112,  0.3252, -1.3144,  0.0086, -3.2288,  0.5864,\n",
      "        -1.2520,  0.2413])\n"
     ]
    }
   ],
   "source": [
    "# Gradients computed for each weight but weights not changed because haven't run optimiser yet\n",
    "\n",
    "optimiser.step()\n",
    "print(model.layer2.weight[0][0:10])\n",
    "print(model.layer2.weight.grad[0][0:10])"
   ]
  },
  {
   "cell_type": "code",
   "execution_count": 15,
   "metadata": {},
   "outputs": [
    {
     "name": "stdout",
     "output_type": "stream",
     "text": [
      "tensor([-0.9128, -1.3424,  1.2112,  0.3252, -1.3144,  0.0086, -3.2288,  0.5864,\n",
      "        -1.2520,  0.2413])\n",
      "tensor([ -8.2824,  -5.8159,  -1.7837,   5.9662,  -4.6105,   2.1204, -14.6650,\n",
      "          7.2954,   2.2307,  -2.4608])\n",
      "tensor([0., 0., 0., 0., 0., 0., 0., 0., 0., 0.])\n"
     ]
    }
   ],
   "source": [
    "# After running optimiser.step(), need to call optimiser.zero_grad() to\n",
    "# stop acummuclating grad on learning weights after every loss.backward()\n",
    "\n",
    "# Example of not doing this\n",
    "print(model.layer2.weight.grad[0][0:10])\n",
    "\n",
    "for i in range(5):\n",
    "    pred = model(some_input)\n",
    "    loss = (ideal_output - pred).pow(2).sum()\n",
    "    loss.backward()\n",
    "\n",
    "print(model.layer2.weight.grad[0][0:10])  # gradient magnitudes much larger\n",
    "\n",
    "optimiser.zero_grad()\n",
    "\n",
    "print(model.layer2.weight.grad[0][0:10])"
   ]
  },
  {
   "cell_type": "markdown",
   "metadata": {},
   "source": [
    "## Turning Autograd Off and On"
   ]
  },
  {
   "cell_type": "code",
   "execution_count": 17,
   "metadata": {},
   "outputs": [
    {
     "name": "stdout",
     "output_type": "stream",
     "text": [
      "tensor([[1., 1., 1.],\n",
      "        [1., 1., 1.]], requires_grad=True)\n",
      "tensor([[2., 2., 2.],\n",
      "        [2., 2., 2.]], grad_fn=<MulBackward0>)\n",
      "tensor([[2., 2., 2.],\n",
      "        [2., 2., 2.]])\n"
     ]
    }
   ],
   "source": [
    "# Simplest: require_grad\n",
    "\n",
    "a = torch.ones(2, 3, requires_grad=True)\n",
    "print(a)\n",
    "\n",
    "b1 = 2 * a\n",
    "print(b1)\n",
    "\n",
    "a.requires_grad = False\n",
    "b2 = 2 * a\n",
    "print(b2)"
   ]
  },
  {
   "cell_type": "code",
   "execution_count": 18,
   "metadata": {},
   "outputs": [
    {
     "name": "stdout",
     "output_type": "stream",
     "text": [
      "tensor([[5., 5., 5.],\n",
      "        [5., 5., 5.]], grad_fn=<AddBackward0>)\n",
      "tensor([[5., 5., 5.],\n",
      "        [5., 5., 5.]])\n",
      "tensor([[6., 6., 6.],\n",
      "        [6., 6., 6.]], grad_fn=<MulBackward0>)\n"
     ]
    }
   ],
   "source": [
    "# Temporary: torch.no_grad()\n",
    "\n",
    "a = torch.ones(2, 3, requires_grad=True) * 2\n",
    "b = torch.ones(2, 3, requires_grad=True) * 3\n",
    "\n",
    "c1 = a + b\n",
    "print(c1)\n",
    "\n",
    "with torch.no_grad():\n",
    "    c2 = a + b\n",
    "\n",
    "print(c2)\n",
    "\n",
    "c3 = a * b\n",
    "print(c3)"
   ]
  },
  {
   "cell_type": "code",
   "execution_count": 19,
   "metadata": {},
   "outputs": [
    {
     "name": "stdout",
     "output_type": "stream",
     "text": [
      "tensor([[5., 5., 5.],\n",
      "        [5., 5., 5.]], grad_fn=<AddBackward0>)\n",
      "tensor([[5., 5., 5.],\n",
      "        [5., 5., 5.]])\n"
     ]
    }
   ],
   "source": [
    "# torch.no_grad() used as func/method decorator:\n",
    "\n",
    "def add_tensors1(x, y):\n",
    "    return x + y\n",
    "\n",
    "@torch.no_grad()\n",
    "def add_tensors2(x, y):\n",
    "    return x + y\n",
    "\n",
    "\n",
    "a = torch.ones(2, 3, requires_grad=True) * 2\n",
    "b = torch.ones(2, 3, requires_grad=True) * 3\n",
    "\n",
    "c1 = add_tensors1(a, b)\n",
    "print(c1)\n",
    "\n",
    "c2 = add_tensors2(a, b)\n",
    "print(c2)"
   ]
  },
  {
   "cell_type": "code",
   "execution_count": 25,
   "metadata": {},
   "outputs": [
    {
     "name": "stdout",
     "output_type": "stream",
     "text": [
      "tensor([0.8464, 0.7784, 0.8706, 0.0292, 0.1628], requires_grad=True)\n",
      "tensor([0.8464, 0.7784, 0.8706, 0.0292, 0.1628])\n"
     ]
    }
   ],
   "source": [
    "# Have tensor that needs grad tracking but want copy that doesn't\n",
    "\n",
    "x = torch.rand(5, requires_grad=True)\n",
    "y = x.detach()\n",
    "\n",
    "print(x)\n",
    "print(y)"
   ]
  },
  {
   "cell_type": "markdown",
   "metadata": {},
   "source": [
    "### Autograd and In-place Operations\n",
    "\n",
    "In every example in this notebook so far, we’ve used variables to capture the intermediate values of a computation. Autograd needs these intermediate values to perform gradient computations. *For this reason, you must be careful about using in-place operations when using autograd.* Doing so can destroy information you need to compute derivatives in the `backward()` call. PyTorch will even stop you if you attempt an in-place operation on leaf variable that requires autograd, as shown below."
   ]
  },
  {
   "cell_type": "code",
   "execution_count": 26,
   "metadata": {},
   "outputs": [
    {
     "name": "stdout",
     "output_type": "stream",
     "text": [
      "a leaf Variable that requires grad is being used in an in-place operation.\n"
     ]
    }
   ],
   "source": [
    "a = torch.linspace(0., 2. * math.pi, steps=25, requires_grad=True)\n",
    "\n",
    "try:\n",
    "    torch.sin_(a)\n",
    "except RuntimeError as err:\n",
    "    print(err)"
   ]
  },
  {
   "cell_type": "markdown",
   "metadata": {},
   "source": [
    "## Autograd Profiler\n",
    "\n",
    "Autograd's computation tracking plus timing information would make a handy profiler."
   ]
  },
  {
   "cell_type": "code",
   "execution_count": 27,
   "metadata": {},
   "outputs": [
    {
     "name": "stdout",
     "output_type": "stream",
     "text": [
      "-------------  ------------  ------------  ------------  ------------  ------------  ------------  \n",
      "         Name    Self CPU %      Self CPU   CPU total %     CPU total  CPU time avg    # of Calls  \n",
      "-------------  ------------  ------------  ------------  ------------  ------------  ------------  \n",
      "    aten::div        66.46%      10.941ms        66.46%      10.941ms      10.941us          1000  \n",
      "    aten::mul        33.54%       5.522ms        33.54%       5.522ms       5.522us          1000  \n",
      "-------------  ------------  ------------  ------------  ------------  ------------  ------------  \n",
      "Self CPU time total: 16.463ms\n",
      "\n"
     ]
    }
   ],
   "source": [
    "x = torch.randn(2, 3, requires_grad=True)\n",
    "y = torch.rand(2, 3, requires_grad=True)\n",
    "z = torch.ones(2, 3, requires_grad=True)\n",
    "\n",
    "with torch.autograd.profiler.profile() as prf:\n",
    "    for _ in range(1000):\n",
    "        z = (z/x)*y\n",
    "\n",
    "print(prf.key_averages().table(sort_by=\"self_cpu_time_total\"))"
   ]
  },
  {
   "cell_type": "markdown",
   "metadata": {},
   "source": [
    "## More Autograd Detail and the High-Level API\n",
    "\n",
    "Imagine PyTorch model as function with n-dimensional input and m-dimensional output $\\vec{y} = f(\\vec{x})$ and jacobian $J$.\n",
    "\n",
    "Loss function $l = g(\\vec{y})$ that returns a scalar output would have gradients as column vector $v = \\Big(\\frac{\\partial l}{\\partial y_1} \\cdots \\frac{\\partial l}{\\partial y_m}\\Big)^T$.\n",
    "\n",
    "$$v^T \\cdot J = \\Bigg(\\frac{\\partial l}{\\partial y_1} \\cdots \\frac{\\partial l}{\\partial y_m}\\Bigg) \\cdot \\underline{J} = \\Bigg(\\frac{\\partial l}{\\partial x_1} \\cdots \\frac{\\partial l}{\\partial x_n}\\Bigg)$$\n",
    "\n",
    "**`torch.autograd` computes these (Jacobian-vector) products,** and is how gradients over learning weights are accumulated during backward pass.\n",
    "\n",
    "`backward()` call can also take optional vector input representing set of gradients over (output) tensor, which are multiplied by Jacobian of autograd-traced tensor preceding it."
   ]
  },
  {
   "cell_type": "code",
   "execution_count": 7,
   "metadata": {},
   "outputs": [
    {
     "name": "stdout",
     "output_type": "stream",
     "text": [
      "tensor([ 571.7303, 1491.2374,   28.9516], grad_fn=<MulBackward0>)\n"
     ]
    }
   ],
   "source": [
    "x = torch.randn(3, requires_grad=True)\n",
    "\n",
    "y = x * 2\n",
    "while y.data.norm() < 1000:\n",
    "    y = y * 2\n",
    "\n",
    "print(y)"
   ]
  },
  {
   "cell_type": "code",
   "execution_count": 9,
   "metadata": {},
   "outputs": [
    {
     "name": "stdout",
     "output_type": "stream",
     "text": [
      "grad can be implicitly created only for scalar outputs\n",
      "tensor([5.1200e+01, 5.1200e+02, 5.1200e-02])\n"
     ]
    }
   ],
   "source": [
    "try:\n",
    "    y.backward()\n",
    "except RuntimeError as err:\n",
    "    # For multi-dim output, need to provide their\n",
    "    # gradients for autograd to multiply into Jacobian\n",
    "    print(err)\n",
    "\n",
    "v = torch.tensor([0.1, 1.0, 0.0001], dtype=torch.float) # stand-in for gradients\n",
    "y.backward(v)\n",
    "\n",
    "print(x.grad)"
   ]
  },
  {
   "cell_type": "markdown",
   "metadata": {},
   "source": [
    "### The High-Level API\n",
    "\n",
    "There is API on autograd that gives direct access to important differentiqal matrix and vector ops, notably calculating Jacobian and Hessian of particular function and inputs."
   ]
  },
  {
   "cell_type": "code",
   "execution_count": 17,
   "metadata": {},
   "outputs": [
    {
     "name": "stdout",
     "output_type": "stream",
     "text": [
      "  Inputs: (tensor([0.9878]), tensor([0.0714]))\n",
      "Jacobian: (tensor([[5.3709]]), tensor([[3.]]))\n",
      " Hessian: ((tensor([[5.3709]]), tensor([[0.]])), (tensor([[0.]]), tensor([[0.]])))\n"
     ]
    }
   ],
   "source": [
    "def exp_adder(x, y):\n",
    "    return 2 * x.exp() + 3 * y\n",
    "\n",
    "inputs = (torch.rand(1), torch.rand(1))  # function args\n",
    "print(\"  Inputs:\", inputs)\n",
    "\n",
    "print(\"Jacobian:\", torch.autograd.functional.jacobian(exp_adder, inputs))  # 2e^x and 3\n",
    "print(\" Hessian:\", torch.autograd.functional.hessian(exp_adder, inputs))"
   ]
  },
  {
   "cell_type": "code",
   "execution_count": 18,
   "metadata": {},
   "outputs": [
    {
     "data": {
      "text/plain": [
       "(tensor([514.8537, 653.6339, 811.2714]),\n",
       " tensor([1.0240e+02, 1.0240e+03, 1.0240e-01]))"
      ]
     },
     "execution_count": 18,
     "metadata": {},
     "output_type": "execute_result"
    }
   ],
   "source": [
    "# Directly computing vector-Jacobian product, if vector provided\n",
    "\n",
    "def do_some_doubling(x):\n",
    "    y = x*2\n",
    "    while y.data.norm() < 1000:\n",
    "        y *= 2\n",
    "    return y\n",
    "\n",
    "inputs = torch.rand(3)\n",
    "grads = torch.tensor([0.1, 1.0, 0.0001])\n",
    "torch.autograd.functional.vjp(do_some_doubling, inputs, grads)  # jvp() same with operands reversed\n",
    "# vhp() and hvp() also exist"
   ]
  }
 ],
 "metadata": {
  "kernelspec": {
   "display_name": "Python 3.9.12 ('base')",
   "language": "python",
   "name": "python3"
  },
  "language_info": {
   "codemirror_mode": {
    "name": "ipython",
    "version": 3
   },
   "file_extension": ".py",
   "mimetype": "text/x-python",
   "name": "python",
   "nbconvert_exporter": "python",
   "pygments_lexer": "ipython3",
   "version": "3.9.12"
  },
  "vscode": {
   "interpreter": {
    "hash": "954a381b949094e8c8d475b8b19b9ec32c83c8caa63c46efb382e322b832ca79"
   }
  }
 },
 "nbformat": 4,
 "nbformat_minor": 4
}
