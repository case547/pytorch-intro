{
 "cells": [
  {
   "cell_type": "markdown",
   "metadata": {},
   "source": [
    "# Training with PyTorch"
   ]
  },
  {
   "cell_type": "markdown",
   "metadata": {},
   "source": [
    "## Dataset and DataLoader\n",
    "\n",
    "These classes encapsulate process of pulling data from storage and exposing it to training loop in batches.\n",
    "\n",
    "`Dataset` reponsible for accessing, processing single instances of data.\n",
    "\n",
    "`DataLoader` pulls data instances from `Dataset`, collects them in batches, returns them for consumption by training loop."
   ]
  },
  {
   "cell_type": "code",
   "execution_count": 5,
   "metadata": {},
   "outputs": [
    {
     "name": "stdout",
     "output_type": "stream",
     "text": [
      "Training set has 60000 instances\n",
      "Validation set has 10000 instances\n"
     ]
    }
   ],
   "source": [
    "import torch\n",
    "import torchvision\n",
    "import torchvision.transforms as transforms\n",
    "\n",
    "# PyTorch TensorBoard support\n",
    "from torch.utils.tensorboard import SummaryWriter\n",
    "from datetime import datetime\n",
    "\n",
    "\n",
    "transform = transforms.Compose(\n",
    "    [transforms.ToTensor(), transforms.Normalize((0.5,), (0.5))]\n",
    ")\n",
    "\n",
    "# Create datasets for training/validation, download if needed\n",
    "training_set = torchvision.datasets.FashionMNIST(\n",
    "    \"./data\", train=True, transform=transform, download=True\n",
    ")\n",
    "validation_set = torchvision.datasets.FashionMNIST(\n",
    "    \"./data\", train=False, transform=transform, download=True\n",
    ")\n",
    "\n",
    "# Create dataloaders for datasets; shuffle for training, not for validation\n",
    "training_loader = torch.utils.data.DataLoader(\n",
    "    training_set, batch_size=4, shuffle=True, num_workers=2\n",
    ")\n",
    "validation_loader = torch.utils.data.DataLoader(\n",
    "    validation_set, batch_size=4, shuffle=False, num_workers=2\n",
    ")\n",
    "\n",
    "# Class labels\n",
    "classes = (\n",
    "    \"T-shirt/top\",\n",
    "    \"Trousers\",\n",
    "    \"Pullover\",\n",
    "    \"Dress\",\n",
    "    \"Coat\",\n",
    "    \"Sandal\",\n",
    "    \"Shirt\",\n",
    "    \"Sneaker\",\n",
    "    \"Bag\",\n",
    "    \"Ankle Boot\",\n",
    ")\n",
    "\n",
    "# Report split sizes\n",
    "print(f\"Training set has {len(training_set)} instances\")\n",
    "print(f\"Validation set has {len(validation_set)} instances\")\n"
   ]
  },
  {
   "cell_type": "code",
   "execution_count": 6,
   "metadata": {},
   "outputs": [
    {
     "name": "stdout",
     "output_type": "stream",
     "text": [
      "Pullover  Coat  Dress  Ankle Boot\n"
     ]
    },
    {
     "data": {
      "image/png": "[encoded data removed]",
      "text/plain": [
       "<Figure size 432x288 with 1 Axes>"
      ]
     },
     "metadata": {
      "needs_background": "light"
     },
     "output_type": "display_data"
    }
   ],
   "source": [
    "# Visualise data as sanity check\n",
    "\n",
    "import matplotlib.pyplot as plt\n",
    "import numpy as np\n",
    "\n",
    "def mpl_imshow(img, one_channel=False):\n",
    "\n",
    "    if one_channel:\n",
    "        img = img.mean(dim=0)  # un-normalise\n",
    "\n",
    "    npimg = img.numpy()\n",
    "\n",
    "    if one_channel:\n",
    "        plt.imshow(npimg, cmap=\"Greys\")\n",
    "    else:\n",
    "        plt.imshow(np.transpose(npimg, (1, 2, 0)))\n",
    "\n",
    "dataiter = iter(training_loader)\n",
    "imgs, labels = dataiter.next()\n",
    "\n",
    "# Create grid from imgs and show them\n",
    "img_grid = torchvision.utils.make_grid(imgs)\n",
    "mpl_imshow(img_grid, one_channel=True)\n",
    "print(\"  \".join(classes[labels[j]] for j in range(4)))"
   ]
  },
  {
   "cell_type": "markdown",
   "metadata": {},
   "source": [
    "## The Model"
   ]
  },
  {
   "cell_type": "code",
   "execution_count": 25,
   "metadata": {},
   "outputs": [],
   "source": [
    "import torch.nn as nn\n",
    "import torch.nn.functional as F\n",
    "\n",
    "class GarmentClassifier(nn.Module):\n",
    "    def __init__(self):\n",
    "        super(GarmentClassifier, self).__init__()\n",
    "        self.conv1 = nn.Conv2d(1, 6, 5)\n",
    "        self.pool = nn.MaxPool2d(2, 2)\n",
    "        self.conv2 = nn.Conv2d(6, 16, 5)\n",
    "        self.fc1 = nn.Linear(16 * 4 * 4, 120)\n",
    "        self.fc2 = nn.Linear(120, 84)\n",
    "        self.fc3 = nn.Linear(84, 10)\n",
    "\n",
    "    def forward(self, x):\n",
    "        x = self.pool(F.relu(self.conv1(x)))\n",
    "        x = self.pool(F.relu(self.conv2(x)))\n",
    "        x = x.view(-1, 16 * 4 * 4)\n",
    "        x = F.relu(self.fc1(x))\n",
    "        x = F.relu(self.fc2(x))\n",
    "        x = self.fc3(x)\n",
    "        return x\n",
    "\n",
    "\n",
    "model = GarmentClassifier()"
   ]
  },
  {
   "cell_type": "markdown",
   "metadata": {},
   "source": [
    "## Loss Function\n",
    "\n",
    "Using cross-entropy loss. For demo, will create batches of dummy output and label values, run them through loss func, examine result."
   ]
  },
  {
   "cell_type": "code",
   "execution_count": 8,
   "metadata": {},
   "outputs": [
    {
     "name": "stdout",
     "output_type": "stream",
     "text": [
      "tensor([[0.3639, 0.4708, 0.3776, 0.6884, 0.2954, 0.3686, 0.2620, 0.3395, 0.2082,\n",
      "         0.7485],\n",
      "        [0.9797, 0.8074, 0.2005, 0.3171, 0.7427, 0.5529, 0.7571, 0.9732, 0.0350,\n",
      "         0.8106],\n",
      "        [0.1597, 0.0948, 0.6921, 0.9466, 0.2656, 0.9071, 0.9653, 0.0244, 0.0327,\n",
      "         0.7801],\n",
      "        [0.7824, 0.1261, 0.9115, 0.2115, 0.0450, 0.2777, 0.4596, 0.4586, 0.3971,\n",
      "         0.2277]])\n",
      "tensor([1, 5, 3, 7])\n",
      "Total loss for this batch: 2.21431303024292\n"
     ]
    }
   ],
   "source": [
    "loss_fn = torch.nn.CrossEntropyLoss()\n",
    "\n",
    "# Loss functions expect data in batches so creating batches of 4\n",
    "\n",
    "dummy_outputs = torch.rand(4, 10)  # represents model's confidence in each class for given input\n",
    "dummy_labels = torch.tensor([1, 5, 3, 7])  # represents correct class among 10 being tested\n",
    "\n",
    "print(dummy_outputs)\n",
    "print(dummy_labels)\n",
    "\n",
    "loss = loss_fn(dummy_outputs, dummy_labels)\n",
    "print(\"Total loss for this batch:\", loss.item())"
   ]
  },
  {
   "cell_type": "markdown",
   "metadata": {},
   "source": [
    "## Optimiser\n",
    "\n",
    "Can be instructive to try some variations:\n",
    "* Learning rate\n",
    "* Momentum\n",
    "* Different optimation algorithms, e.g. averaged SGD, Adagrad, Adam"
   ]
  },
  {
   "cell_type": "code",
   "execution_count": 16,
   "metadata": {},
   "outputs": [],
   "source": [
    "# Optimisers specified in the torch.optim package\n",
    "\n",
    "optimisers = [\n",
    "    torch.optim.SGD(model.parameters(), lr=0.001, momentum=0.9),\n",
    "    torch.optim.SGD(model.parameters(), lr=0.001),\n",
    "    torch.optim.Adam(model.parameters(), lr=0.001)\n",
    "]"
   ]
  },
  {
   "cell_type": "markdown",
   "metadata": {},
   "source": [
    "## The Training Loop\n",
    "\n",
    "Below function performs one training epoch, enumerating data from DataLoader, and on each iteration:\n",
    "* Gets batch of training data from DataLoader\n",
    "* Zeroes optimiser gradients\n",
    "* Performs inference; gets predictions from model for input batch\n",
    "* Calculates loss and backward gradients over learning weights\n",
    "* Tells optimiser to perform one learning step; adjust weights based on observed gradients for this batch based on chosen algorithm\n",
    "* Reports on loss every 1000 batches\n",
    "* Reports average per-batch loss for last 1000 batches for comparison with validation run"
   ]
  },
  {
   "cell_type": "code",
   "execution_count": 17,
   "metadata": {},
   "outputs": [],
   "source": [
    "def train_one_epoch(epoch_index, tb_writer, optimiser):\n",
    "    running_loss = 0.\n",
    "    last_loss = 0.\n",
    "\n",
    "    # Here enumerate() instead of iter() so can track batch index and do intra-batch reporting\n",
    "    for i, data in enumerate(training_loader):\n",
    "        # Every datum is input & label pair\n",
    "        inputs, labels = data\n",
    "\n",
    "        # Zero gradients every batch!\n",
    "        optimiser.zero_grad()\n",
    "\n",
    "        # Make predictions for this batch\n",
    "        outputs = model(inputs)\n",
    "\n",
    "        # Compute loss and gradients wrt weights\n",
    "        loss = loss_fn(outputs, labels)\n",
    "        loss.backward()\n",
    "\n",
    "        # Adjust weights\n",
    "        optimiser.step()\n",
    "\n",
    "        # Gather data and report\n",
    "        running_loss += loss.item()\n",
    "\n",
    "        if i % 1000 == 999:\n",
    "            last_loss = running_loss / 1000  # averaged loss per batch over megabatch\n",
    "            print(f\"Batch {i+1} loss: {last_loss}\")\n",
    "            tb_x = epoch_index * len(training_loader) + i+1\n",
    "            tb_writer.add_scalar(\"Loss/train\", last_loss, tb_x)\n",
    "            running_loss = 0.\n",
    "\n",
    "    return last_loss"
   ]
  },
  {
   "cell_type": "markdown",
   "metadata": {},
   "source": [
    "### Per-Epoch Activity\n",
    "\n",
    "Things to do once per epoch:\n",
    "* Perform validation by checking and reporting relative loss on validation set\n",
    "* Save copy of model"
   ]
  },
  {
   "cell_type": "code",
   "execution_count": 22,
   "metadata": {},
   "outputs": [],
   "source": [
    "# MAKE SURE TO START TENSORBOARD\n",
    "\n",
    "def training_run(optimiser):\n",
    "    \"\"\"Generic training run function, customisable for different optimisers\"\"\"\n",
    "\n",
    "    timestamp = datetime.now().strftime(\"%Y%m%d_%H%M%S\")\n",
    "    writer = SummaryWriter(f\"runs/fashion_trainer_{timestamp}\")\n",
    "\n",
    "    epoch_number = 0\n",
    "\n",
    "    EPOCHS = 5\n",
    "\n",
    "    best_vloss = 1_000_000\n",
    "\n",
    "    for _ in range(EPOCHS):\n",
    "        print(f\"EPOCH {epoch_number+1}:\")\n",
    "\n",
    "        # Make sure gradient tracking is on, and do a pass over the data\n",
    "        model.train(True)\n",
    "        avg_loss = train_one_epoch(epoch_number, writer, optimiser)\n",
    "\n",
    "        # Don't need gradients on for reporting\n",
    "        model.train(False)\n",
    "\n",
    "        running_vloss = 0.0\n",
    "        for i, vdata in enumerate(validation_loader):\n",
    "            vinputs, vlabels = vdata\n",
    "            voutputs = model(vinputs)\n",
    "            vloss = loss_fn(voutputs, vlabels)\n",
    "            running_vloss += vloss\n",
    "\n",
    "        avg_vloss = running_vloss / (i + 1)\n",
    "        print(f\"LOSS train {avg_loss} valid {avg_vloss}\")\n",
    "\n",
    "        # Log running loss averaged per batch for both training and validation\n",
    "        writer.add_scalars(\n",
    "            \"Training vs. Validation Loss\",\n",
    "            {\"Training\": avg_loss, \"Validation\": avg_vloss},\n",
    "            epoch_number + 1,\n",
    "        )\n",
    "\n",
    "        writer.flush()\n",
    "\n",
    "        # Track best performance, and save model's state\n",
    "        if avg_vloss < best_vloss:\n",
    "            best_vloss = avg_vloss\n",
    "            model_path = f\"model_{timestamp}_{epoch_number}\"\n",
    "            torch.save(model.state_dict(), model_path)\n",
    "\n",
    "        epoch_number += 1\n"
   ]
  },
  {
   "cell_type": "markdown",
   "metadata": {},
   "source": [
    "Make sure to start TensorBoard before running the below cells."
   ]
  },
  {
   "cell_type": "code",
   "execution_count": 19,
   "metadata": {},
   "outputs": [
    {
     "name": "stdout",
     "output_type": "stream",
     "text": [
      "EPOCH 1:\n",
      "Batch 1000 loss: 1.7126290408521891\n",
      "Batch 2000 loss: 0.8384624086413532\n",
      "Batch 3000 loss: 0.6966749602332711\n",
      "Batch 4000 loss: 0.6537402897924185\n",
      "Batch 5000 loss: 0.5720611733436818\n",
      "Batch 6000 loss: 0.5751306228127796\n",
      "Batch 7000 loss: 0.5246028355206362\n",
      "Batch 8000 loss: 0.4736353321049828\n",
      "Batch 9000 loss: 0.4956321609230945\n",
      "Batch 10000 loss: 0.46440795248223005\n",
      "Batch 11000 loss: 0.4758145148215117\n",
      "Batch 12000 loss: 0.4270937421831768\n",
      "Batch 13000 loss: 0.437838045676006\n",
      "Batch 14000 loss: 0.42661332812940234\n",
      "Batch 15000 loss: 0.4298055310418713\n",
      "LOSS train 0.4298055310418713 valid 0.4347895383834839\n",
      "EPOCH 2:\n",
      "Batch 1000 loss: 0.41278741205175173\n",
      "Batch 2000 loss: 0.40754263584245926\n",
      "Batch 3000 loss: 0.4000238726655371\n",
      "Batch 4000 loss: 0.3842398264088552\n",
      "Batch 5000 loss: 0.4030686193634756\n",
      "Batch 6000 loss: 0.40193341950839384\n",
      "Batch 7000 loss: 0.3752506954791606\n",
      "Batch 8000 loss: 0.37198587722639787\n",
      "Batch 9000 loss: 0.3840789081439725\n",
      "Batch 10000 loss: 0.3656289618322771\n",
      "Batch 11000 loss: 0.35454159763969073\n",
      "Batch 12000 loss: 0.3598182373797172\n",
      "Batch 13000 loss: 0.3395435088704398\n",
      "Batch 14000 loss: 0.354266605029552\n",
      "Batch 15000 loss: 0.3923372033772175\n",
      "LOSS train 0.3923372033772175 valid 0.367412805557251\n",
      "EPOCH 3:\n",
      "Batch 1000 loss: 0.3498069352119928\n",
      "Batch 2000 loss: 0.34838299792131144\n",
      "Batch 3000 loss: 0.31753651968552365\n",
      "Batch 4000 loss: 0.339383074704514\n",
      "Batch 5000 loss: 0.31817938722245165\n",
      "Batch 6000 loss: 0.3306457225564736\n",
      "Batch 7000 loss: 0.32779617363231955\n",
      "Batch 8000 loss: 0.3388500220079659\n",
      "Batch 9000 loss: 0.34131172861956294\n",
      "Batch 10000 loss: 0.33234383355024694\n",
      "Batch 11000 loss: 0.3144731552965532\n",
      "Batch 12000 loss: 0.3030253582102232\n",
      "Batch 13000 loss: 0.3173185231737443\n",
      "Batch 14000 loss: 0.3508902915789222\n",
      "Batch 15000 loss: 0.3384079820419138\n",
      "LOSS train 0.3384079820419138 valid 0.34278714656829834\n",
      "EPOCH 4:\n",
      "Batch 1000 loss: 0.29474069613954634\n",
      "Batch 2000 loss: 0.31130725832823375\n",
      "Batch 3000 loss: 0.31633834602305433\n",
      "Batch 4000 loss: 0.3120369136920308\n",
      "Batch 5000 loss: 0.3069459019102942\n",
      "Batch 6000 loss: 0.30703720924704975\n",
      "Batch 7000 loss: 0.3066619527293951\n",
      "Batch 8000 loss: 0.310398958965161\n",
      "Batch 9000 loss: 0.29841941925865834\n",
      "Batch 10000 loss: 0.29687190027298493\n",
      "Batch 11000 loss: 0.3083763388010848\n",
      "Batch 12000 loss: 0.29879693641221455\n",
      "Batch 13000 loss: 0.2933178187852027\n",
      "Batch 14000 loss: 0.301566334878873\n",
      "Batch 15000 loss: 0.2887548353003367\n",
      "LOSS train 0.2887548353003367 valid 0.33572617173194885\n",
      "EPOCH 5:\n",
      "Batch 1000 loss: 0.273285463767359\n",
      "Batch 2000 loss: 0.2660389338343266\n",
      "Batch 3000 loss: 0.2777819230354762\n",
      "Batch 4000 loss: 0.3044025702298095\n",
      "Batch 5000 loss: 0.2809765230667017\n",
      "Batch 6000 loss: 0.27675907984360676\n",
      "Batch 7000 loss: 0.2946898206893238\n",
      "Batch 8000 loss: 0.27709973418667594\n",
      "Batch 9000 loss: 0.293576940410956\n",
      "Batch 10000 loss: 0.29385510727025393\n",
      "Batch 11000 loss: 0.2923820352730763\n",
      "Batch 12000 loss: 0.2933052577781928\n",
      "Batch 13000 loss: 0.29638229601320015\n",
      "Batch 14000 loss: 0.2647240885881902\n",
      "Batch 15000 loss: 0.2834666540891003\n",
      "LOSS train 0.2834666540891003 valid 0.3162468373775482\n"
     ]
    }
   ],
   "source": [
    "# SGD, lr=0.001, momentum=0.9\n",
    "\n",
    "training_run(0)"
   ]
  },
  {
   "cell_type": "code",
   "execution_count": 20,
   "metadata": {},
   "outputs": [
    {
     "name": "stdout",
     "output_type": "stream",
     "text": [
      "EPOCH 1:\n",
      "Batch 1000 loss: 0.24618977832436212\n",
      "Batch 2000 loss: 0.24635323957713626\n",
      "Batch 3000 loss: 0.24126895120556766\n",
      "Batch 4000 loss: 0.22853877147223647\n",
      "Batch 5000 loss: 0.23426763221481905\n",
      "Batch 6000 loss: 0.22357218346502486\n",
      "Batch 7000 loss: 0.2177504513482836\n",
      "Batch 8000 loss: 0.22260619249589944\n",
      "Batch 9000 loss: 0.2353517508690685\n",
      "Batch 10000 loss: 0.228757331014368\n",
      "Batch 11000 loss: 0.22304923653523384\n",
      "Batch 12000 loss: 0.23947132629652515\n",
      "Batch 13000 loss: 0.23309855894567955\n",
      "Batch 14000 loss: 0.21583951324552755\n",
      "Batch 15000 loss: 0.21360443453460629\n",
      "LOSS train 0.21360443453460629 valid 0.2815902829170227\n",
      "EPOCH 2:\n",
      "Batch 1000 loss: 0.23149234276634342\n",
      "Batch 2000 loss: 0.214807808103209\n",
      "Batch 3000 loss: 0.21882522577374766\n",
      "Batch 4000 loss: 0.22873328799260617\n",
      "Batch 5000 loss: 0.21863194749140008\n",
      "Batch 6000 loss: 0.22631141654572365\n",
      "Batch 7000 loss: 0.2157214766357838\n",
      "Batch 8000 loss: 0.22720506284161002\n",
      "Batch 9000 loss: 0.225702301284794\n",
      "Batch 10000 loss: 0.199851768747576\n",
      "Batch 11000 loss: 0.21463448586749656\n",
      "Batch 12000 loss: 0.20505487296480168\n",
      "Batch 13000 loss: 0.22085049960435005\n",
      "Batch 14000 loss: 0.22212664673278096\n",
      "Batch 15000 loss: 0.22485772515628377\n",
      "LOSS train 0.22485772515628377 valid 0.2803974449634552\n",
      "EPOCH 3:\n",
      "Batch 1000 loss: 0.20073929037667768\n",
      "Batch 2000 loss: 0.20329515716664537\n",
      "Batch 3000 loss: 0.22491009654312255\n",
      "Batch 4000 loss: 0.237384651866166\n",
      "Batch 5000 loss: 0.21890129841227826\n",
      "Batch 6000 loss: 0.21287073362745287\n",
      "Batch 7000 loss: 0.23145914407464216\n",
      "Batch 8000 loss: 0.20952699185135498\n",
      "Batch 9000 loss: 0.21679973411170522\n",
      "Batch 10000 loss: 0.20529965440387013\n",
      "Batch 11000 loss: 0.20612495069729903\n",
      "Batch 12000 loss: 0.21570517121571903\n",
      "Batch 13000 loss: 0.21129735313177594\n",
      "Batch 14000 loss: 0.21115830554916465\n",
      "Batch 15000 loss: 0.22270763010626432\n",
      "LOSS train 0.22270763010626432 valid 0.27846837043762207\n",
      "EPOCH 4:\n",
      "Batch 1000 loss: 0.2092870391725428\n",
      "Batch 2000 loss: 0.2076157005017475\n",
      "Batch 3000 loss: 0.20022316508307086\n",
      "Batch 4000 loss: 0.21999869012816908\n",
      "Batch 5000 loss: 0.2232172625494495\n",
      "Batch 6000 loss: 0.21753963438772417\n",
      "Batch 7000 loss: 0.21027142851722302\n",
      "Batch 8000 loss: 0.20262310535534697\n",
      "Batch 9000 loss: 0.2238315420196627\n",
      "Batch 10000 loss: 0.1978973355857529\n",
      "Batch 11000 loss: 0.2380721795697782\n",
      "Batch 12000 loss: 0.1992769740261965\n",
      "Batch 13000 loss: 0.19475958190326992\n",
      "Batch 14000 loss: 0.20506201887761927\n",
      "Batch 15000 loss: 0.21702699604622286\n",
      "LOSS train 0.21702699604622286 valid 0.2767390012741089\n",
      "EPOCH 5:\n",
      "Batch 1000 loss: 0.21927441762172747\n",
      "Batch 2000 loss: 0.22817060865982786\n",
      "Batch 3000 loss: 0.21339426329823072\n",
      "Batch 4000 loss: 0.19449315877818754\n",
      "Batch 5000 loss: 0.20288685465624848\n",
      "Batch 6000 loss: 0.19618454960197368\n",
      "Batch 7000 loss: 0.206039225937448\n",
      "Batch 8000 loss: 0.21722461315753072\n",
      "Batch 9000 loss: 0.2104143582215802\n",
      "Batch 10000 loss: 0.2073830980350154\n",
      "Batch 11000 loss: 0.2020110085406077\n",
      "Batch 12000 loss: 0.19874707617057766\n",
      "Batch 13000 loss: 0.19602264677754602\n",
      "Batch 14000 loss: 0.20720456876539037\n",
      "Batch 15000 loss: 0.21026949021100155\n",
      "LOSS train 0.21026949021100155 valid 0.277892529964447\n"
     ]
    }
   ],
   "source": [
    "# SGD, lr=0.001\n",
    "\n",
    "training_run(1)"
   ]
  },
  {
   "cell_type": "code",
   "execution_count": 24,
   "metadata": {},
   "outputs": [
    {
     "name": "stdout",
     "output_type": "stream",
     "text": [
      "EPOCH 1:\n",
      "Batch 1000 loss: 0.2712310774003443\n",
      "Batch 2000 loss: 0.2512592614982044\n",
      "Batch 3000 loss: 0.27589194529252925\n",
      "Batch 4000 loss: 0.2741987713609578\n",
      "Batch 5000 loss: 0.2481133478852377\n",
      "Batch 6000 loss: 0.2684995219304658\n",
      "Batch 7000 loss: 0.25956696652054495\n",
      "Batch 8000 loss: 0.28887291490546135\n",
      "Batch 9000 loss: 0.28071789094055954\n",
      "Batch 10000 loss: 0.2764978868882813\n",
      "Batch 11000 loss: 0.2720560966147499\n",
      "Batch 12000 loss: 0.2583016577638297\n",
      "Batch 13000 loss: 0.2853357129418773\n",
      "Batch 14000 loss: 0.2741238160131288\n",
      "Batch 15000 loss: 0.2580068697371863\n",
      "LOSS train 0.2580068697371863 valid 0.33179861307144165\n",
      "EPOCH 2:\n",
      "Batch 1000 loss: 0.25417378903164495\n",
      "Batch 2000 loss: 0.2587864485671049\n",
      "Batch 3000 loss: 0.25365071347639084\n",
      "Batch 4000 loss: 0.24930296084513956\n",
      "Batch 5000 loss: 0.2436196566917969\n",
      "Batch 6000 loss: 0.28109803779153614\n",
      "Batch 7000 loss: 0.23840625013890432\n",
      "Batch 8000 loss: 0.2484967980351261\n",
      "Batch 9000 loss: 0.24988567761895006\n",
      "Batch 10000 loss: 0.2645684273024212\n",
      "Batch 11000 loss: 0.2722103403319206\n",
      "Batch 12000 loss: 0.2736371413165561\n",
      "Batch 13000 loss: 0.2563637854927958\n",
      "Batch 14000 loss: 0.2575520424442426\n",
      "Batch 15000 loss: 0.3008955276703323\n",
      "LOSS train 0.3008955276703323 valid 0.3461824357509613\n",
      "EPOCH 3:\n",
      "Batch 1000 loss: 0.2290788534391907\n",
      "Batch 2000 loss: 0.2339921448415724\n",
      "Batch 3000 loss: 0.25126508581497087\n",
      "Batch 4000 loss: 0.2715360037385054\n",
      "Batch 5000 loss: 0.24992525864091883\n",
      "Batch 6000 loss: 0.253836356965168\n",
      "Batch 7000 loss: 0.2581539698610444\n",
      "Batch 8000 loss: 0.26048666620124855\n",
      "Batch 9000 loss: 0.27070621190753436\n",
      "Batch 10000 loss: 0.25319214439184434\n",
      "Batch 11000 loss: 0.261680797589254\n",
      "Batch 12000 loss: 0.23945398605375384\n",
      "Batch 13000 loss: 0.2542170346143691\n",
      "Batch 14000 loss: 0.25550419348487835\n",
      "Batch 15000 loss: 0.26121570987861786\n",
      "LOSS train 0.26121570987861786 valid 0.331735223531723\n"
     ]
    },
    {
     "ename": "KeyboardInterrupt",
     "evalue": "",
     "output_type": "error",
     "traceback": [
      "\u001b[1;31m---------------------------------------------------------------------------\u001b[0m",
      "\u001b[1;31mKeyboardInterrupt\u001b[0m                         Traceback (most recent call last)",
      "\u001b[1;32mc:\\Users\\justin.mak\\pytorch-intro\\6_training_models.ipynb Cell 18\u001b[0m in \u001b[0;36m<cell line: 3>\u001b[1;34m()\u001b[0m\n\u001b[0;32m      <a href='vscode-notebook-cell:/c%3A/Users/justin.mak/pytorch-intro/6_training_models.ipynb#X22sZmlsZQ%3D%3D?line=0'>1</a>\u001b[0m \u001b[39m# ADAM, lr=0.001\u001b[39;00m\n\u001b[1;32m----> <a href='vscode-notebook-cell:/c%3A/Users/justin.mak/pytorch-intro/6_training_models.ipynb#X22sZmlsZQ%3D%3D?line=2'>3</a>\u001b[0m training_run(\u001b[39m2\u001b[39;49m)\n",
      "\u001b[1;32mc:\\Users\\justin.mak\\pytorch-intro\\6_training_models.ipynb Cell 18\u001b[0m in \u001b[0;36mtraining_run\u001b[1;34m(opti_ind)\u001b[0m\n\u001b[0;32m     <a href='vscode-notebook-cell:/c%3A/Users/justin.mak/pytorch-intro/6_training_models.ipynb#X22sZmlsZQ%3D%3D?line=45'>46</a>\u001b[0m     best_vloss \u001b[39m=\u001b[39m avg_vloss\n\u001b[0;32m     <a href='vscode-notebook-cell:/c%3A/Users/justin.mak/pytorch-intro/6_training_models.ipynb#X22sZmlsZQ%3D%3D?line=46'>47</a>\u001b[0m     model_path \u001b[39m=\u001b[39m \u001b[39mf\u001b[39m\u001b[39m\"\u001b[39m\u001b[39mmodel_\u001b[39m\u001b[39m{\u001b[39;00mtimestamp\u001b[39m}\u001b[39;00m\u001b[39m_\u001b[39m\u001b[39m{\u001b[39;00mepoch_number\u001b[39m}\u001b[39;00m\u001b[39m\"\u001b[39m\n\u001b[1;32m---> <a href='vscode-notebook-cell:/c%3A/Users/justin.mak/pytorch-intro/6_training_models.ipynb#X22sZmlsZQ%3D%3D?line=47'>48</a>\u001b[0m     torch\u001b[39m.\u001b[39msave(model\u001b[39m.\u001b[39;49mstate_dict(), model_path)\n\u001b[0;32m     <a href='vscode-notebook-cell:/c%3A/Users/justin.mak/pytorch-intro/6_training_models.ipynb#X22sZmlsZQ%3D%3D?line=49'>50</a>\u001b[0m epoch_number \u001b[39m+\u001b[39m\u001b[39m=\u001b[39m \u001b[39m1\u001b[39m\n",
      "File \u001b[1;32mc:\\Users\\justin.mak\\Anaconda3\\lib\\site-packages\\torch\\nn\\modules\\module.py:1381\u001b[0m, in \u001b[0;36mModule.state_dict\u001b[1;34m(self, destination, prefix, keep_vars, *args)\u001b[0m\n\u001b[0;32m   1379\u001b[0m \u001b[39mfor\u001b[39;00m name, module \u001b[39min\u001b[39;00m \u001b[39mself\u001b[39m\u001b[39m.\u001b[39m_modules\u001b[39m.\u001b[39mitems():\n\u001b[0;32m   1380\u001b[0m     \u001b[39mif\u001b[39;00m module \u001b[39mis\u001b[39;00m \u001b[39mnot\u001b[39;00m \u001b[39mNone\u001b[39;00m:\n\u001b[1;32m-> 1381\u001b[0m         module\u001b[39m.\u001b[39;49mstate_dict(destination\u001b[39m=\u001b[39;49mdestination, prefix\u001b[39m=\u001b[39;49mprefix \u001b[39m+\u001b[39;49m name \u001b[39m+\u001b[39;49m \u001b[39m'\u001b[39;49m\u001b[39m.\u001b[39;49m\u001b[39m'\u001b[39;49m, keep_vars\u001b[39m=\u001b[39;49mkeep_vars)\n\u001b[0;32m   1382\u001b[0m \u001b[39mfor\u001b[39;00m hook \u001b[39min\u001b[39;00m \u001b[39mself\u001b[39m\u001b[39m.\u001b[39m_state_dict_hooks\u001b[39m.\u001b[39mvalues():\n\u001b[0;32m   1383\u001b[0m     hook_result \u001b[39m=\u001b[39m hook(\u001b[39mself\u001b[39m, destination, prefix, local_metadata)\n",
      "File \u001b[1;32mc:\\Users\\justin.mak\\Anaconda3\\lib\\site-packages\\torch\\nn\\modules\\module.py:1378\u001b[0m, in \u001b[0;36mModule.state_dict\u001b[1;34m(self, destination, prefix, keep_vars, *args)\u001b[0m\n\u001b[0;32m   1375\u001b[0m \u001b[39mif\u001b[39;00m \u001b[39mhasattr\u001b[39m(destination, \u001b[39m\"\u001b[39m\u001b[39m_metadata\u001b[39m\u001b[39m\"\u001b[39m):\n\u001b[0;32m   1376\u001b[0m     destination\u001b[39m.\u001b[39m_metadata[prefix[:\u001b[39m-\u001b[39m\u001b[39m1\u001b[39m]] \u001b[39m=\u001b[39m local_metadata\n\u001b[1;32m-> 1378\u001b[0m \u001b[39mself\u001b[39;49m\u001b[39m.\u001b[39;49m_save_to_state_dict(destination, prefix, keep_vars)\n\u001b[0;32m   1379\u001b[0m \u001b[39mfor\u001b[39;00m name, module \u001b[39min\u001b[39;00m \u001b[39mself\u001b[39m\u001b[39m.\u001b[39m_modules\u001b[39m.\u001b[39mitems():\n\u001b[0;32m   1380\u001b[0m     \u001b[39mif\u001b[39;00m module \u001b[39mis\u001b[39;00m \u001b[39mnot\u001b[39;00m \u001b[39mNone\u001b[39;00m:\n",
      "File \u001b[1;32mc:\\Users\\justin.mak\\Anaconda3\\lib\\site-packages\\torch\\nn\\modules\\module.py:1294\u001b[0m, in \u001b[0;36mModule._save_to_state_dict\u001b[1;34m(self, destination, prefix, keep_vars)\u001b[0m\n\u001b[0;32m   1292\u001b[0m \u001b[39mfor\u001b[39;00m name, param \u001b[39min\u001b[39;00m \u001b[39mself\u001b[39m\u001b[39m.\u001b[39m_parameters\u001b[39m.\u001b[39mitems():\n\u001b[0;32m   1293\u001b[0m     \u001b[39mif\u001b[39;00m param \u001b[39mis\u001b[39;00m \u001b[39mnot\u001b[39;00m \u001b[39mNone\u001b[39;00m:\n\u001b[1;32m-> 1294\u001b[0m         destination[prefix \u001b[39m+\u001b[39m name] \u001b[39m=\u001b[39m param \u001b[39mif\u001b[39;00m keep_vars \u001b[39melse\u001b[39;00m param\u001b[39m.\u001b[39;49mdetach()\n\u001b[0;32m   1295\u001b[0m \u001b[39mfor\u001b[39;00m name, buf \u001b[39min\u001b[39;00m \u001b[39mself\u001b[39m\u001b[39m.\u001b[39m_buffers\u001b[39m.\u001b[39mitems():\n\u001b[0;32m   1296\u001b[0m     \u001b[39mif\u001b[39;00m buf \u001b[39mis\u001b[39;00m \u001b[39mnot\u001b[39;00m \u001b[39mNone\u001b[39;00m \u001b[39mand\u001b[39;00m name \u001b[39mnot\u001b[39;00m \u001b[39min\u001b[39;00m \u001b[39mself\u001b[39m\u001b[39m.\u001b[39m_non_persistent_buffers_set:\n",
      "\u001b[1;31mKeyboardInterrupt\u001b[0m: "
     ]
    }
   ],
   "source": [
    "# ADAM, lr=0.001\n",
    "\n",
    "training_run(2)"
   ]
  },
  {
   "cell_type": "markdown",
   "metadata": {},
   "source": [
    "### Loading Saved Model Versions"
   ]
  },
  {
   "cell_type": "code",
   "execution_count": null,
   "metadata": {},
   "outputs": [],
   "source": [
    "# PATH = \"\"\n",
    "\n",
    "# saved_model = GarmentClassifier()\n",
    "# saved_model.load_state_dict(torch.load(PATH))"
   ]
  }
 ],
 "metadata": {
  "kernelspec": {
   "display_name": "Python 3.9.12 ('base')",
   "language": "python",
   "name": "python3"
  },
  "language_info": {
   "codemirror_mode": {
    "name": "ipython",
    "version": 3
   },
   "file_extension": ".py",
   "mimetype": "text/x-python",
   "name": "python",
   "nbconvert_exporter": "python",
   "pygments_lexer": "ipython3",
   "version": "3.9.12"
  },
  "orig_nbformat": 4,
  "vscode": {
   "interpreter": {
    "hash": "954a381b949094e8c8d475b8b19b9ec32c83c8caa63c46efb382e322b832ca79"
   }
  }
 },
 "nbformat": 4,
 "nbformat_minor": 2
}
