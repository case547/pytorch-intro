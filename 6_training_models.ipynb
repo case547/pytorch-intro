{
 "cells": [
  {
   "cell_type": "markdown",
   "metadata": {},
   "source": [
    "# Training with PyTorch"
   ]
  },
  {
   "cell_type": "markdown",
   "metadata": {},
   "source": [
    "## Dataset and DataLoader\n",
    "\n",
    "These classes encapsulate process of pulling data from storageand exposing it to training loop in batches.\n",
    "\n",
    "`Dataset` reponsible for accessing, processing single instances of data.\n",
    "\n",
    "`DataLoader` pulls data instances from `Dataset`, collects them in batches, returns them for consumption by training loop."
   ]
  },
  {
   "cell_type": "code",
   "execution_count": 1,
   "metadata": {},
   "outputs": [
    {
     "name": "stdout",
     "output_type": "stream",
     "text": [
      "Training set has 60000 instances\n",
      "Validation set has 10000 instances\n"
     ]
    }
   ],
   "source": [
    "import torch\n",
    "import torchvision\n",
    "import torchvision.transforms as transforms\n",
    "\n",
    "# PyTorch TensorBoard support\n",
    "from torch.utils.tensorboard import SummaryWriter\n",
    "from datetime import datetime\n",
    "\n",
    "\n",
    "transform = transforms.Compose(\n",
    "    [transforms.ToTensor(), transforms.Normalize((0.5,), (0.5))]\n",
    ")\n",
    "\n",
    "# Create datasets for training/validation, download if needed\n",
    "training_set = torchvision.datasets.FashionMNIST(\n",
    "    \"./data\", train=True, transform=transform, download=True\n",
    ")\n",
    "validation_set = torchvision.datasets.FashionMNIST(\n",
    "    \"./data\", train=False, transform=transform, download=True\n",
    ")\n",
    "\n",
    "# Create dataloaders for datasets; shuffle for training, not for validation\n",
    "training_loader = torch.utils.data.DataLoader(\n",
    "    training_set, batch_size=4, shuffle=True, num_workers=2\n",
    ")\n",
    "validation_loader = torch.utils.data.DataLoader(\n",
    "    validation_set, batch_size=4, shuffle=False, num_workers=2\n",
    ")\n",
    "\n",
    "# Class labels\n",
    "classes = (\n",
    "    \"T-shirt/top\",\n",
    "    \"Trousers\",\n",
    "    \"Pullover\",\n",
    "    \"Dress\",\n",
    "    \"Coat\",\n",
    "    \"Sandal\",\n",
    "    \"Shirt\",\n",
    "    \"Sneaker\",\n",
    "    \"Bag\",\n",
    "    \"Ankle Boot\",\n",
    ")\n",
    "\n",
    "# Report split sizes\n",
    "print(f\"Training set has {len(training_set)} instances\")\n",
    "print(f\"Validation set has {len(validation_set)} instances\")\n"
   ]
  },
  {
   "cell_type": "code",
   "execution_count": 2,
   "metadata": {},
   "outputs": [
    {
     "name": "stdout",
     "output_type": "stream",
     "text": [
      "Pullover  Ankle Boot  Pullover  Sandal\n"
     ]
    },
    {
     "data": {
      "image/png": "[encoded data removed]",
      "text/plain": [
       "<Figure size 432x288 with 1 Axes>"
      ]
     },
     "metadata": {
      "needs_background": "light"
     },
     "output_type": "display_data"
    }
   ],
   "source": [
    "# Visualise data as sanity check\n",
    "\n",
    "import matplotlib.pyplot as plt\n",
    "import numpy as np\n",
    "\n",
    "def mpl_imshow(img, one_channel=False):\n",
    "\n",
    "    if one_channel:\n",
    "        img = img.mean(dim=0)  # un-normalise\n",
    "\n",
    "    npimg = img.numpy()\n",
    "\n",
    "    if one_channel:\n",
    "        plt.imshow(npimg, cmap=\"Greys\")\n",
    "    else:\n",
    "        plt.imshow(np.transpose(npimg, (1, 2, 0)))\n",
    "\n",
    "dataiter = iter(training_loader)\n",
    "imgs, labels = dataiter.next()\n",
    "\n",
    "# Create grid from imgs and show them\n",
    "img_grid = torchvision.utils.make_grid(imgs)\n",
    "mpl_imshow(img_grid, one_channel=True)\n",
    "print(\"  \".join(classes[labels[j]] for j in range(4)))"
   ]
  },
  {
   "cell_type": "markdown",
   "metadata": {},
   "source": [
    "## The Model"
   ]
  },
  {
   "cell_type": "code",
   "execution_count": 3,
   "metadata": {},
   "outputs": [],
   "source": [
    "import torch.nn as nn\n",
    "import torch.nn.functional as F\n",
    "\n",
    "class GarmentClassifier(nn.Module):\n",
    "    def __init__(self):\n",
    "        super(GarmentClassifier, self).__init__()\n",
    "        self.conv1 = nn.Conv2d(1, 6, 5)\n",
    "        self.pool = nn.MaxPool2d(2, 2)\n",
    "        self.conv2 = nn.Conv2d(6, 16, 5)\n",
    "        self.fc1 = nn.Linear(16 * 4 * 4, 120)\n",
    "        self.fc2 = nn.Linear(120, 84)\n",
    "        self.fc3 = nn.Linear(84, 10)\n",
    "\n",
    "    def forward(self, x):\n",
    "        x = self.pool(F.relu(self.conv1(x)))\n",
    "        x = self.pool(F.relu(self.conv2(x)))\n",
    "        x = x.view(-1, 16 * 4 * 4)\n",
    "        x = F.relu(self.fc1(x))\n",
    "        x = F.relu(self.fc2(x))\n",
    "        x = self.fc3(x)\n",
    "        return x\n",
    "\n",
    "\n",
    "model = GarmentClassifier()"
   ]
  },
  {
   "cell_type": "markdown",
   "metadata": {},
   "source": [
    "## Loss Function\n",
    "\n",
    "Using cross-entropy loss. For demo, will create batches of dummy output and label values, run them through loss func, examine result."
   ]
  },
  {
   "cell_type": "code",
   "execution_count": 4,
   "metadata": {},
   "outputs": [
    {
     "name": "stdout",
     "output_type": "stream",
     "text": [
      "tensor([[0.2541, 0.8914, 0.7899, 0.9348, 0.0092, 0.6027, 0.5226, 0.2956, 0.2956,\n",
      "         0.5980],\n",
      "        [0.1428, 0.9985, 0.4786, 0.2885, 0.2744, 0.2482, 0.9765, 0.4382, 0.7906,\n",
      "         0.9119],\n",
      "        [0.4119, 0.8373, 0.2966, 0.4561, 0.4895, 0.7972, 0.6208, 0.4888, 0.2606,\n",
      "         0.6079],\n",
      "        [0.6441, 0.1257, 0.5380, 0.5466, 0.9206, 0.5959, 0.1618, 0.5299, 0.6834,\n",
      "         0.2633]])\n",
      "tensor([1, 5, 3, 7])\n",
      "Total loss for this batch: 2.3303475379943848\n"
     ]
    }
   ],
   "source": [
    "loss_fn = torch.nn.CrossEntropyLoss()\n",
    "\n",
    "# Loss functions expect data in batches so creating batches of 4\n",
    "\n",
    "dummy_outputs = torch.rand(4, 10)  # represents model's confidence in each class for given input\n",
    "dummy_labels = torch.tensor([1, 5, 3, 7])  # represents correct class among 10 being tested\n",
    "\n",
    "print(dummy_outputs)\n",
    "print(dummy_labels)\n",
    "\n",
    "loss = loss_fn(dummy_outputs, dummy_labels)\n",
    "print(\"Total loss for this batch:\", loss.item())"
   ]
  },
  {
   "cell_type": "markdown",
   "metadata": {},
   "source": [
    "## Optimiser\n",
    "\n",
    "Can be instructive to try some variations:\n",
    "* Learning rate\n",
    "* Momentum\n",
    "* Different optimation algorithms, e.g. averaged SGD, Adagrad, Adam"
   ]
  },
  {
   "cell_type": "code",
   "execution_count": 9,
   "metadata": {},
   "outputs": [],
   "source": [
    "# Optimisers specified in the torch.optim package\n",
    "optimiser1 = torch.optim.SGD(model.parameters(), lr=0.001, momentum=0.9)\n",
    "optimiser2 = torch.optim.SGD(model.parameters(), lr=0.001)\n",
    "optimiser3 = torch.optim.Adam(model.parameters(), lr=0.001)"
   ]
  },
  {
   "cell_type": "markdown",
   "metadata": {},
   "source": [
    "## The Training Loop\n",
    "\n",
    "Below function performs one training epoch, enumerating data from DataLoader, and on each iteration:\n",
    "* Gets batch of training data from DataLoader\n",
    "* Zeroes optimiser gradients\n",
    "* Performs inference; gets predictions from model for input batch\n",
    "* Calculates loss and backward gradients over learning weights\n",
    "* Tells optimiser to perform one learning step; adjust weights based on observed gradients for this batch based on chosen algorithm\n",
    "\n",
    "Every 1000 batches:\n",
    "* Reports on loss\n",
    "* Reports average per-batch loss foor last 1000 batches for comparison with validation run"
   ]
  },
  {
   "cell_type": "code",
   "execution_count": 14,
   "metadata": {},
   "outputs": [],
   "source": [
    "def train_one_epoch(epoch_index, tb_writer, optimiser):\n",
    "    running_loss = 0.\n",
    "    last_loss = 0.\n",
    "\n",
    "    # Here enumerate() instead of iter() so can track batch index and do intra-batch reporting\n",
    "    for i, data in enumerate(training_loader):\n",
    "        # Every datum is input & label pair\n",
    "        inputs, labels = data\n",
    "\n",
    "        # Zero gradients every batch!\n",
    "        optimiser.zero_grad()\n",
    "\n",
    "        # Make predictions for this batch\n",
    "        outputs = model(inputs)\n",
    "\n",
    "        # Compute loss and gradients wrt weights\n",
    "        loss = loss_fn(outputs, labels)\n",
    "        loss.backward()\n",
    "\n",
    "        # Adjust weights\n",
    "        optimiser.step()\n",
    "\n",
    "        # Gather data and report\n",
    "        running_loss += loss.item()\n",
    "\n",
    "        if i % 1000 == 999:\n",
    "            last_loss = running_loss / 1000  # averaged loss per batch\n",
    "            print(f\"Batch {i+1} loss: {last_loss}\")\n",
    "            tb_x = epoch_index * len(training_loader) + i+1\n",
    "            tb_writer.add_scalar(\"Loss/train\", last_loss, tb_x)\n",
    "            running_loss = 0.\n",
    "\n",
    "    return last_loss"
   ]
  },
  {
   "cell_type": "markdown",
   "metadata": {},
   "source": [
    "### Per-Epoch Activity\n",
    "\n",
    "Things to do once per epoch:\n",
    "* Perform validation by checking and reporting relative loss on validation set\n",
    "* Save copy of model\n",
    "\n",
    "Make sure to start TensorBoard."
   ]
  },
  {
   "cell_type": "code",
   "execution_count": 16,
   "metadata": {},
   "outputs": [],
   "source": [
    "# MAKE SURE TO START TENSORBOARD\n",
    "\n",
    "def training_run(optimiser):\n",
    "    \"\"\"Generic training run function, customisable for different optimisers\"\"\"\n",
    "\n",
    "    timestamp = datetime.now().strftime(\"%Y%m%d_%H%M%S\")\n",
    "    writer = SummaryWriter(f\"runs/fashion_trainer_{timestamp}_{optimiser}\")\n",
    "\n",
    "    epoch_number = 0\n",
    "\n",
    "    EPOCHS = 5\n",
    "\n",
    "    best_vloss = 1_000_000\n",
    "\n",
    "    for _ in range(EPOCHS):\n",
    "        print(f\"EPOCH {epoch_number+1}:\")\n",
    "\n",
    "        # Make sure gradient tracking is on, and do a pass over the data\n",
    "        model.train(True)\n",
    "        avg_loss = train_one_epoch(epoch_number, writer, optimiser)\n",
    "\n",
    "        # Don't need gradients on for reporting\n",
    "        model.train(False)\n",
    "\n",
    "        running_vloss = 0.0\n",
    "        for i, vdata in enumerate(validation_loader):\n",
    "            vinputs, vlabels = vdata\n",
    "            voutputs = model(vinputs)\n",
    "            vloss = loss_fn(voutputs, vlabels)\n",
    "            running_vloss += vloss\n",
    "\n",
    "        avg_vloss = running_vloss / (i + 1)\n",
    "        print(f\"LOSS train {avg_loss} valid {avg_vloss}\")\n",
    "\n",
    "        # Log running loss averaged per batch for both training and validation\n",
    "        writer.add_scalars(\n",
    "            \"Training vs. Validation Loss\",\n",
    "            {\"Training\": avg_loss, \"Validation\": avg_vloss},\n",
    "            epoch_number + 1,\n",
    "        )\n",
    "\n",
    "        writer.flush()\n",
    "\n",
    "        # Track best performance, and save model's state\n",
    "        if avg_vloss < best_vloss:\n",
    "            best_vloss = avg_vloss\n",
    "            model_path = f\"model_{timestamp}_{epoch_number}\"\n",
    "            torch.save(model.state_dict(), model_path)\n",
    "\n",
    "        epoch_number += 1\n"
   ]
  },
  {
   "cell_type": "code",
   "execution_count": null,
   "metadata": {},
   "outputs": [],
   "source": [
    "# SGD, lr=0.001, momentum=0.9\n",
    "\n",
    "training_run(optimiser1)"
   ]
  },
  {
   "cell_type": "code",
   "execution_count": null,
   "metadata": {},
   "outputs": [],
   "source": [
    "# SGD, lr=0.001\n",
    "\n",
    "training_run(optimiser2)"
   ]
  },
  {
   "cell_type": "code",
   "execution_count": null,
   "metadata": {},
   "outputs": [],
   "source": [
    "# ADAM, lr=0.001\n",
    "\n",
    "training_run(optimiser3)"
   ]
  },
  {
   "cell_type": "markdown",
   "metadata": {},
   "source": [
    "### Loading Saved Model Versions"
   ]
  },
  {
   "cell_type": "code",
   "execution_count": 15,
   "metadata": {},
   "outputs": [],
   "source": [
    "# PATH = \"\"\n",
    "\n",
    "# saved_model = GarmentClassifier()\n",
    "# saved_model.load_state_dict(torch.load(PATH))"
   ]
  }
 ],
 "metadata": {
  "kernelspec": {
   "display_name": "Python 3.9.12 ('base')",
   "language": "python",
   "name": "python3"
  },
  "language_info": {
   "codemirror_mode": {
    "name": "ipython",
    "version": 3
   },
   "file_extension": ".py",
   "mimetype": "text/x-python",
   "name": "python",
   "nbconvert_exporter": "python",
   "pygments_lexer": "ipython3",
   "version": "3.9.12"
  },
  "orig_nbformat": 4,
  "vscode": {
   "interpreter": {
    "hash": "954a381b949094e8c8d475b8b19b9ec32c83c8caa63c46efb382e322b832ca79"
   }
  }
 },
 "nbformat": 4,
 "nbformat_minor": 2
}
