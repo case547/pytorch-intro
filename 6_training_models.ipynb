{
 "cells": [
  {
   "cell_type": "markdown",
   "metadata": {},
   "source": [
    "# Training with PyTorch"
   ]
  },
  {
   "cell_type": "markdown",
   "metadata": {},
   "source": [
    "## Dataset and DataLoader\n",
    "\n",
    "These classes encapsulate process of pulling data from storageand exposing it to training loop in batches.\n",
    "\n",
    "`Dataset` reponsible for accessing, processing single instances of data.\n",
    "\n",
    "`DataLoader` pulls data instances from `Dataset`, collects them in batches, returns them for consumption by training loop."
   ]
  },
  {
   "cell_type": "code",
   "execution_count": 2,
   "metadata": {},
   "outputs": [
    {
     "name": "stdout",
     "output_type": "stream",
     "text": [
      "Training set has 60000 instances\n",
      "Validation set has 10000 instances\n"
     ]
    }
   ],
   "source": [
    "import torch\n",
    "import torchvision\n",
    "import torchvision.transforms as transforms\n",
    "\n",
    "# PyTorch TensorBoard support\n",
    "from torch.utils.tensorboard import SummaryWriter\n",
    "from datetime import datetime\n",
    "\n",
    "\n",
    "transform = transforms.Compose(\n",
    "    [transforms.ToTensor(), transforms.Normalize((0.5,), (0.5))]\n",
    ")\n",
    "\n",
    "# Create datasets for training/validation, download if needed\n",
    "training_set = torchvision.datasets.FashionMNIST(\n",
    "    \"./data\", train=True, transform=transform, download=True\n",
    ")\n",
    "validation_set = torchvision.datasets.FashionMNIST(\n",
    "    \"./data\", train=False, transform=transform, download=True\n",
    ")\n",
    "\n",
    "# Create dataloaders for datasets; shuffle for training, not for validation\n",
    "training_loader = torch.utils.data.DataLoader(\n",
    "    training_set, batch_size=4, shuffle=True, num_workers=2\n",
    ")\n",
    "validation_loader = torch.utils.data.DataLoader(\n",
    "    validation_set, batch_size=4, shuffle=False, num_workers=2\n",
    ")\n",
    "\n",
    "# Class labels\n",
    "classes = (\n",
    "    \"T-shirt/top\",\n",
    "    \"Trousers\",\n",
    "    \"Pullover\",\n",
    "    \"Dress\",\n",
    "    \"Coat\",\n",
    "    \"Sandal\",\n",
    "    \"Shirt\",\n",
    "    \"Sneaker\",\n",
    "    \"Bag\",\n",
    "    \"Ankle Boot\",\n",
    ")\n",
    "\n",
    "# Report split sizes\n",
    "print(f\"Training set has {len(training_set)} instances\")\n",
    "print(f\"Validation set has {len(validation_set)} instances\")\n"
   ]
  },
  {
   "cell_type": "code",
   "execution_count": 3,
   "metadata": {},
   "outputs": [
    {
     "name": "stdout",
     "output_type": "stream",
     "text": [
      "Coat  Coat  Shirt  Trousers\n"
     ]
    },
    {
     "data": {
      "image/png": "[encoded data removed]",
      "text/plain": [
       "<Figure size 432x288 with 1 Axes>"
      ]
     },
     "metadata": {
      "needs_background": "light"
     },
     "output_type": "display_data"
    }
   ],
   "source": [
    "# Visualise data as sanity check\n",
    "\n",
    "import matplotlib.pyplot as plt\n",
    "import numpy as np\n",
    "\n",
    "def mpl_imshow(img, one_channel=False):\n",
    "\n",
    "    if one_channel:\n",
    "        img = img.mean(dim=0)  # un-normalise\n",
    "\n",
    "    npimg = img.numpy()\n",
    "\n",
    "    if one_channel:\n",
    "        plt.imshow(npimg, cmap=\"Greys\")\n",
    "    else:\n",
    "        plt.imshow(np.transpose(npimg, (1, 2, 0)))\n",
    "\n",
    "dataiter = iter(training_loader)\n",
    "imgs, labels = dataiter.next()\n",
    "\n",
    "# Create grid from imgs and show them\n",
    "img_grid = torchvision.utils.make_grid(imgs)\n",
    "mpl_imshow(img_grid, one_channel=True)\n",
    "print(\"  \".join(classes[labels[j]] for j in range(4)))"
   ]
  },
  {
   "cell_type": "markdown",
   "metadata": {},
   "source": [
    "## The Model"
   ]
  },
  {
   "cell_type": "code",
   "execution_count": 4,
   "metadata": {},
   "outputs": [],
   "source": [
    "import torch.nn as nn\n",
    "import torch.nn.functional as F\n",
    "\n",
    "class GarmentClassifier(nn.Module):\n",
    "    def __init__(self):\n",
    "        super(GarmentClassifier, self).__init__()\n",
    "        self.conv1 = nn.Conv2d(1, 6, 5)\n",
    "        self.pool = nn.MaxPool2d(2, 2)\n",
    "        self.conv2 = nn.Conv2d(6, 16, 5)\n",
    "        self.fc1 = nn.Linear(16 * 4 * 4, 120)\n",
    "        self.fc2 = nn.Linear(120, 84)\n",
    "        self.fc3 = nn.Linear(84, 10)\n",
    "\n",
    "    def forward(self, x):\n",
    "        x = self.pool(F.relu(self.conv1(x)))\n",
    "        x = self.pool(F.relu(self.conv2(x)))\n",
    "        x = x.view(-1, 16 * 4 * 4)\n",
    "        x = F.relu(self.fc1(x))\n",
    "        x = F.relu(self.fc2(x))\n",
    "        x = self.fc3(x)\n",
    "        return x\n",
    "\n",
    "\n",
    "model = GarmentClassifier()"
   ]
  },
  {
   "cell_type": "markdown",
   "metadata": {},
   "source": [
    "## Loss Function\n",
    "\n",
    "Using cross-entropy loss. For demo, will create batches of dummy output and label values, run them through loss func, examine result."
   ]
  },
  {
   "cell_type": "code",
   "execution_count": 5,
   "metadata": {},
   "outputs": [
    {
     "name": "stdout",
     "output_type": "stream",
     "text": [
      "tensor([[0.0050, 0.7989, 0.5650, 0.0950, 0.4083, 0.3137, 0.6809, 0.4107, 0.3736,\n",
      "         0.9715],\n",
      "        [0.1810, 0.6866, 0.2137, 0.2334, 0.2797, 0.6214, 0.6123, 0.5921, 0.8339,\n",
      "         0.4829],\n",
      "        [0.0661, 0.3882, 0.4717, 0.2877, 0.9255, 0.7022, 0.8812, 0.8307, 0.0334,\n",
      "         0.0193],\n",
      "        [0.9364, 0.8009, 0.5464, 0.7109, 0.1974, 0.5476, 0.8754, 0.8430, 0.3088,\n",
      "         0.3213]])\n",
      "tensor([1, 5, 3, 7])\n",
      "Total loss for this batch: 2.2042508125305176\n"
     ]
    }
   ],
   "source": [
    "loss_fn = torch.nn.CrossEntropyLoss()\n",
    "\n",
    "# Loss functions expect data in batches so creating batches of 4\n",
    "\n",
    "dummy_outputs = torch.rand(4, 10)  # represents model's confidence in each class for given input\n",
    "dummy_labels = torch.tensor([1, 5, 3, 7])  # represents correct class among 10 being tested\n",
    "\n",
    "print(dummy_outputs)\n",
    "print(dummy_labels)\n",
    "\n",
    "loss = loss_fn(dummy_outputs, dummy_labels)\n",
    "print(\"Total loss for this batch:\", loss.item())"
   ]
  },
  {
   "cell_type": "markdown",
   "metadata": {},
   "source": [
    "## Optimiser\n",
    "\n",
    "Can be instructive to try some variations:\n",
    "* Learning rate\n",
    "* Momentum\n",
    "* Different optimation algorithms, e.g. averaged SGD, Adagrad, Adam"
   ]
  },
  {
   "cell_type": "code",
   "execution_count": 9,
   "metadata": {},
   "outputs": [],
   "source": [
    "# Optimisers specified in the torch.optim package\n",
    "optimiser = torch.optim.SGD(model.parameters(), lr=0.001, momentum=0.9)"
   ]
  },
  {
   "cell_type": "markdown",
   "metadata": {},
   "source": [
    "## The Training Loop\n",
    "\n",
    "Below function performs one training epoch, enumerating data from DataLoader, and on each iteration:\n",
    "* Gets batch of training data from DataLoader\n",
    "* Zeroes optimiser gradients\n",
    "* Performs inference; gets predictions from model for input batch\n",
    "* Calculates loss and backward gradients over learning weights\n",
    "* Tells optimiser to perform one learning step; adjust weights based on observed gradients for this batch based on chosen algorithm\n",
    "\n",
    "Every 1000 batches:\n",
    "* Reports on loss\n",
    "* Reports average per-batch loss foor last 1000 batches for comparison with validation run"
   ]
  },
  {
   "cell_type": "code",
   "execution_count": 10,
   "metadata": {},
   "outputs": [],
   "source": [
    "def train_one_epoch(epoch_index, tb_writer):\n",
    "    running_loss = 0.\n",
    "    last_loss = 0.\n",
    "\n",
    "    # Here enumerate() instead of iter() so can track batch index and do intra-batch reporting\n",
    "    for i, data in enumerate(training_loader):\n",
    "        # Every datum is input & label pair\n",
    "        inputs, labels = data\n",
    "\n",
    "        # Zero gradients every batch!\n",
    "        optimiser.zero_grad()\n",
    "\n",
    "        # Make predictions for this batch\n",
    "        outputs = model(inputs)\n",
    "\n",
    "        # Compute loss and gradients wrt weights\n",
    "        loss = loss_fn(outputs, labels)\n",
    "        loss.backward()\n",
    "\n",
    "        # Adjust weights\n",
    "        optimiser.step()\n",
    "\n",
    "        # Gather data and report\n",
    "        running_loss += loss.item()\n",
    "\n",
    "        if i % 1000 == 999:\n",
    "            last_loss = running_loss / 1000  # averaged loss per batch\n",
    "            print(f\"Batch {i+1} loss: {last_loss}\")\n",
    "            tb_x = epoch_index * len(training_loader) + i+1\n",
    "            tb_writer.add_scalar(\"Loss/train\", last_loss, tb_x)\n",
    "            running_loss = 0.\n",
    "\n",
    "    return last_loss"
   ]
  },
  {
   "cell_type": "markdown",
   "metadata": {},
   "source": [
    "### Per-Epoch Activity\n",
    "\n",
    "Things to do once per epoch:\n",
    "* Perform validation by checking and reporting relative loss on validation set\n",
    "* Save copy of model"
   ]
  },
  {
   "cell_type": "code",
   "execution_count": 12,
   "metadata": {},
   "outputs": [
    {
     "name": "stdout",
     "output_type": "stream",
     "text": [
      "EPOCH 1:\n",
      "Batch 1000 loss: 0.44278844503092113\n",
      "Batch 2000 loss: 0.42222686467925086\n",
      "Batch 3000 loss: 0.43416991249390413\n",
      "Batch 4000 loss: 0.40771083073620684\n",
      "Batch 5000 loss: 0.40874772053339986\n",
      "Batch 6000 loss: 0.38942595323512796\n",
      "Batch 7000 loss: 0.40811576587660237\n",
      "Batch 8000 loss: 0.38728047940070975\n",
      "Batch 9000 loss: 0.40065760730061445\n",
      "Batch 10000 loss: 0.3853379342884291\n",
      "Batch 11000 loss: 0.3796711550076143\n",
      "Batch 12000 loss: 0.38953130280951154\n",
      "Batch 13000 loss: 0.3723306601740769\n",
      "Batch 14000 loss: 0.38023514188017\n",
      "Batch 15000 loss: 0.3694767666700645\n",
      "LOSS train 0.3694767666700645 valid 0.3824346959590912\n",
      "EPOCH 1:\n",
      "Batch 1000 loss: 0.34929781239078145\n",
      "Batch 2000 loss: 0.35344019657117315\n",
      "Batch 3000 loss: 0.362411810481688\n",
      "Batch 4000 loss: 0.3392707388247945\n",
      "Batch 5000 loss: 0.3354003721685731\n",
      "Batch 6000 loss: 0.3411717004827733\n",
      "Batch 7000 loss: 0.34406814431972454\n",
      "Batch 8000 loss: 0.3344793949162413\n",
      "Batch 9000 loss: 0.3717601099897875\n",
      "Batch 10000 loss: 0.33473381502658595\n",
      "Batch 11000 loss: 0.33495435051354433\n",
      "Batch 12000 loss: 0.33911136441366396\n",
      "Batch 13000 loss: 0.34990699543629306\n",
      "Batch 14000 loss: 0.3384785875576199\n"
     ]
    },
    {
     "ename": "KeyboardInterrupt",
     "evalue": "",
     "output_type": "error",
     "traceback": [
      "\u001b[1;31m---------------------------------------------------------------------------\u001b[0m",
      "\u001b[1;31mKeyboardInterrupt\u001b[0m                         Traceback (most recent call last)",
      "\u001b[1;32mc:\\Users\\justin.mak\\OneDrive - Ocean Infinity Group Limited\\Documents\\pytorch-intro\\6_training_models.ipynb Cell 14\u001b[0m in \u001b[0;36m<cell line: 10>\u001b[1;34m()\u001b[0m\n\u001b[0;32m     <a href='vscode-notebook-cell:/c%3A/Users/justin.mak/OneDrive%20-%20Ocean%20Infinity%20Group%20Limited/Documents/pytorch-intro/6_training_models.ipynb#ch0000013?line=12'>13</a>\u001b[0m \u001b[39m# Make sure gradient tracking is on, and do a pass over the data\u001b[39;00m\n\u001b[0;32m     <a href='vscode-notebook-cell:/c%3A/Users/justin.mak/OneDrive%20-%20Ocean%20Infinity%20Group%20Limited/Documents/pytorch-intro/6_training_models.ipynb#ch0000013?line=13'>14</a>\u001b[0m model\u001b[39m.\u001b[39mtrain(\u001b[39mTrue\u001b[39;00m)\n\u001b[1;32m---> <a href='vscode-notebook-cell:/c%3A/Users/justin.mak/OneDrive%20-%20Ocean%20Infinity%20Group%20Limited/Documents/pytorch-intro/6_training_models.ipynb#ch0000013?line=14'>15</a>\u001b[0m avg_loss \u001b[39m=\u001b[39m train_one_epoch(epoch_number, writer)\n\u001b[0;32m     <a href='vscode-notebook-cell:/c%3A/Users/justin.mak/OneDrive%20-%20Ocean%20Infinity%20Group%20Limited/Documents/pytorch-intro/6_training_models.ipynb#ch0000013?line=16'>17</a>\u001b[0m \u001b[39m# Don't need gradients on for reporting\u001b[39;00m\n\u001b[0;32m     <a href='vscode-notebook-cell:/c%3A/Users/justin.mak/OneDrive%20-%20Ocean%20Infinity%20Group%20Limited/Documents/pytorch-intro/6_training_models.ipynb#ch0000013?line=17'>18</a>\u001b[0m model\u001b[39m.\u001b[39mtrain(\u001b[39mFalse\u001b[39;00m)\n",
      "\u001b[1;32mc:\\Users\\justin.mak\\OneDrive - Ocean Infinity Group Limited\\Documents\\pytorch-intro\\6_training_models.ipynb Cell 14\u001b[0m in \u001b[0;36mtrain_one_epoch\u001b[1;34m(epoch_index, tb_writer)\u001b[0m\n\u001b[0;32m     <a href='vscode-notebook-cell:/c%3A/Users/justin.mak/OneDrive%20-%20Ocean%20Infinity%20Group%20Limited/Documents/pytorch-intro/6_training_models.ipynb#ch0000013?line=15'>16</a>\u001b[0m \u001b[39m# Compute loss and gradients wrt weights\u001b[39;00m\n\u001b[0;32m     <a href='vscode-notebook-cell:/c%3A/Users/justin.mak/OneDrive%20-%20Ocean%20Infinity%20Group%20Limited/Documents/pytorch-intro/6_training_models.ipynb#ch0000013?line=16'>17</a>\u001b[0m loss \u001b[39m=\u001b[39m loss_fn(outputs, labels)\n\u001b[1;32m---> <a href='vscode-notebook-cell:/c%3A/Users/justin.mak/OneDrive%20-%20Ocean%20Infinity%20Group%20Limited/Documents/pytorch-intro/6_training_models.ipynb#ch0000013?line=17'>18</a>\u001b[0m loss\u001b[39m.\u001b[39;49mbackward()\n\u001b[0;32m     <a href='vscode-notebook-cell:/c%3A/Users/justin.mak/OneDrive%20-%20Ocean%20Infinity%20Group%20Limited/Documents/pytorch-intro/6_training_models.ipynb#ch0000013?line=19'>20</a>\u001b[0m \u001b[39m# Adjust weights\u001b[39;00m\n\u001b[0;32m     <a href='vscode-notebook-cell:/c%3A/Users/justin.mak/OneDrive%20-%20Ocean%20Infinity%20Group%20Limited/Documents/pytorch-intro/6_training_models.ipynb#ch0000013?line=20'>21</a>\u001b[0m optimiser\u001b[39m.\u001b[39mstep()\n",
      "File \u001b[1;32mc:\\Users\\justin.mak\\Anaconda3\\lib\\site-packages\\torch\\_tensor.py:396\u001b[0m, in \u001b[0;36mTensor.backward\u001b[1;34m(self, gradient, retain_graph, create_graph, inputs)\u001b[0m\n\u001b[0;32m    387\u001b[0m \u001b[39mif\u001b[39;00m has_torch_function_unary(\u001b[39mself\u001b[39m):\n\u001b[0;32m    388\u001b[0m     \u001b[39mreturn\u001b[39;00m handle_torch_function(\n\u001b[0;32m    389\u001b[0m         Tensor\u001b[39m.\u001b[39mbackward,\n\u001b[0;32m    390\u001b[0m         (\u001b[39mself\u001b[39m,),\n\u001b[1;32m   (...)\u001b[0m\n\u001b[0;32m    394\u001b[0m         create_graph\u001b[39m=\u001b[39mcreate_graph,\n\u001b[0;32m    395\u001b[0m         inputs\u001b[39m=\u001b[39minputs)\n\u001b[1;32m--> 396\u001b[0m torch\u001b[39m.\u001b[39;49mautograd\u001b[39m.\u001b[39;49mbackward(\u001b[39mself\u001b[39;49m, gradient, retain_graph, create_graph, inputs\u001b[39m=\u001b[39;49minputs)\n",
      "File \u001b[1;32mc:\\Users\\justin.mak\\Anaconda3\\lib\\site-packages\\torch\\autograd\\__init__.py:173\u001b[0m, in \u001b[0;36mbackward\u001b[1;34m(tensors, grad_tensors, retain_graph, create_graph, grad_variables, inputs)\u001b[0m\n\u001b[0;32m    168\u001b[0m     retain_graph \u001b[39m=\u001b[39m create_graph\n\u001b[0;32m    170\u001b[0m \u001b[39m# The reason we repeat same the comment below is that\u001b[39;00m\n\u001b[0;32m    171\u001b[0m \u001b[39m# some Python versions print out the first line of a multi-line function\u001b[39;00m\n\u001b[0;32m    172\u001b[0m \u001b[39m# calls in the traceback and some print out the last line\u001b[39;00m\n\u001b[1;32m--> 173\u001b[0m Variable\u001b[39m.\u001b[39;49m_execution_engine\u001b[39m.\u001b[39;49mrun_backward(  \u001b[39m# Calls into the C++ engine to run the backward pass\u001b[39;49;00m\n\u001b[0;32m    174\u001b[0m     tensors, grad_tensors_, retain_graph, create_graph, inputs,\n\u001b[0;32m    175\u001b[0m     allow_unreachable\u001b[39m=\u001b[39;49m\u001b[39mTrue\u001b[39;49;00m, accumulate_grad\u001b[39m=\u001b[39;49m\u001b[39mTrue\u001b[39;49;00m)\n",
      "\u001b[1;31mKeyboardInterrupt\u001b[0m: "
     ]
    }
   ],
   "source": [
    "timestamp = datetime.now().strftime(\"%Y%m%d_%H%M%S\")\n",
    "writer = SummaryWriter(f\"runs/fashion_trainer_{timestamp}\")\n",
    "\n",
    "epoch_number = 0\n",
    "\n",
    "EPOCHS = 5\n",
    "\n",
    "best_vloss = 1_000_000\n",
    "\n",
    "for epoch in range(EPOCHS):\n",
    "    print(f\"EPOCH {epoch_number+1}:\")\n",
    "\n",
    "    # Make sure gradient tracking is on, and do a pass over the data\n",
    "    model.train(True)\n",
    "    avg_loss = train_one_epoch(epoch_number, writer)\n",
    "\n",
    "    # Don't need gradients on for reporting\n",
    "    model.train(False)\n",
    "\n",
    "    running_vloss = 0.0\n",
    "    for i, vdata in enumerate(validation_loader):\n",
    "        vinputs, vlabels = vdata\n",
    "        voutputs = model(vinputs)\n",
    "        vloss = loss_fn(voutputs, vlabels)\n",
    "        running_vloss += vloss\n",
    "\n",
    "    avg_vloss = running_vloss / (i+1)\n",
    "    print(f\"LOSS train {avg_loss} valid {avg_vloss}\")\n",
    "\n",
    "    # Log running loss averaged per batch for both training and validation\n",
    "    writer.add_scalars(\"Training vs. Validation Loss\",\n",
    "                      {\"Training\": avg_loss, \"Validation\": avg_vloss},\n",
    "                      epoch_number + 1)\n",
    "\n",
    "    writer.flush()\n",
    "\n",
    "    # Track best performance, and save model's state\n",
    "    if avg_vloss < best_vloss:\n",
    "        best_vloss = avg_vloss\n",
    "        model_path = f\"model_{timestamp}_{epoch_number}\"\n",
    "        torch.save(model.state_dict(), model_path)\n",
    "\n",
    "    epoch_number += 1"
   ]
  }
 ],
 "metadata": {
  "kernelspec": {
   "display_name": "Python 3.9.12 ('base')",
   "language": "python",
   "name": "python3"
  },
  "language_info": {
   "codemirror_mode": {
    "name": "ipython",
    "version": 3
   },
   "file_extension": ".py",
   "mimetype": "text/x-python",
   "name": "python",
   "nbconvert_exporter": "python",
   "pygments_lexer": "ipython3",
   "version": "3.9.12"
  },
  "orig_nbformat": 4,
  "vscode": {
   "interpreter": {
    "hash": "954a381b949094e8c8d475b8b19b9ec32c83c8caa63c46efb382e322b832ca79"
   }
  }
 },
 "nbformat": 4,
 "nbformat_minor": 2
}
